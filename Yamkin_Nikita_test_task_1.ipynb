{
  "cells": [
    {
      "cell_type": "code",
      "execution_count": null,
      "id": "4e90113d",
      "metadata": {
        "id": "4e90113d"
      },
      "outputs": [],
      "source": [
        "import numpy as np\n",
        "import json\n",
        "import pandas as pd\n",
        "import re\n",
        "import nltk\n",
        "from nltk.tokenize import word_tokenize\n",
        "from nltk.corpus import stopwords\n",
        "\n",
        "import matplotlib.pyplot as plt\n",
        "import seaborn as sns\n",
        "from scipy.stats import norm # нормальное распределение \n",
        "from scipy import stats\n",
        "from sklearn.preprocessing import StandardScaler\n",
        "import catboost\n",
        "from catboost import CatBoostClassifier, Pool\n"
      ]
    },
    {
      "cell_type": "code",
      "execution_count": null,
      "id": "34ccc156",
      "metadata": {
        "id": "34ccc156"
      },
      "outputs": [],
      "source": [
        "df = pd.read_json('/train.json') "
      ]
    },
    {
      "cell_type": "code",
      "execution_count": null,
      "id": "a777401b",
      "metadata": {
        "colab": {
          "base_uri": "https://localhost:8080/",
          "height": 669
        },
        "id": "a777401b",
        "outputId": "54252b65-426f-4a75-f034-db26ac78ec24"
      },
      "outputs": [
        {
          "output_type": "execute_result",
          "data": {
            "text/plain": [
              "    bathrooms  bedrooms                       building_id  \\\n",
              "4         1.0         1  8579a0b0d54db803821a35a4a615e97a   \n",
              "6         1.0         2  b8e75fc949a6cd8225b455648a951712   \n",
              "9         1.0         2  cd759a988b8f23924b5a2058d5ab2b49   \n",
              "10        1.5         3  53a5b119ba8f7b61d4e010512e0dfc85   \n",
              "15        1.0         0  bfb9405149bfff42a92980b594c28234   \n",
              "\n",
              "                created                                        description  \\\n",
              "4   2016-06-16 05:55:27  Spacious 1 Bedroom 1 Bathroom in Williamsburg!...   \n",
              "6   2016-06-01 05:44:33  BRAND NEW GUT RENOVATED TRUE 2 BEDROOMFind you...   \n",
              "9   2016-06-14 15:19:59  **FLEX 2 BEDROOM WITH FULL PRESSURIZED WALL**L...   \n",
              "10  2016-06-24 07:54:24  A Brand New 3 Bedroom 1.5 bath ApartmentEnjoy ...   \n",
              "15  2016-06-28 03:50:23  Over-sized Studio w abundant closets. Availabl...   \n",
              "\n",
              "        display_address                                           features  \\\n",
              "4   145 Borinquen Place  [Dining Room, Pre-War, Laundry in Building, Di...   \n",
              "6             East 44th  [Doorman, Elevator, Laundry in Building, Dishw...   \n",
              "9      East 56th Street  [Doorman, Elevator, Laundry in Building, Laund...   \n",
              "10  Metropolitan Avenue                                                 []   \n",
              "15     East 34th Street  [Doorman, Elevator, Fitness Center, Laundry in...   \n",
              "\n",
              "    latitude  listing_id  longitude                        manager_id  \\\n",
              "4    40.7108     7170325   -73.9539  a10db4590843d78c784171a107bdacb4   \n",
              "6    40.7513     7092344   -73.9722  955db33477af4f40004820b4aed804a0   \n",
              "9    40.7575     7158677   -73.9625  c8b10a317b766204f08e613cef4ce7a0   \n",
              "10   40.7145     7211212   -73.9425  5ba989232d0489da1b5f2c45f6688adc   \n",
              "15   40.7439     7225292   -73.9743  2c3b41f588fbb5234d8a1e885a436cfa   \n",
              "\n",
              "                                               photos  price  \\\n",
              "4   [https://photos.renthop.com/2/7170325_3bb5ac84...   2400   \n",
              "6   [https://photos.renthop.com/2/7092344_7663c19a...   3800   \n",
              "9   [https://photos.renthop.com/2/7158677_c897a134...   3495   \n",
              "10  [https://photos.renthop.com/2/7211212_1ed4542e...   3000   \n",
              "15  [https://photos.renthop.com/2/7225292_901f1984...   2795   \n",
              "\n",
              "             street_address interest_level  \n",
              "4       145 Borinquen Place         medium  \n",
              "6             230 East 44th            low  \n",
              "9      405 East 56th Street         medium  \n",
              "10  792 Metropolitan Avenue         medium  \n",
              "15     340 East 34th Street            low  "
            ],
            "text/html": [
              "\n",
              "  <div id=\"df-870ad57c-8314-4310-9296-40df59c59299\">\n",
              "    <div class=\"colab-df-container\">\n",
              "      <div>\n",
              "<style scoped>\n",
              "    .dataframe tbody tr th:only-of-type {\n",
              "        vertical-align: middle;\n",
              "    }\n",
              "\n",
              "    .dataframe tbody tr th {\n",
              "        vertical-align: top;\n",
              "    }\n",
              "\n",
              "    .dataframe thead th {\n",
              "        text-align: right;\n",
              "    }\n",
              "</style>\n",
              "<table border=\"1\" class=\"dataframe\">\n",
              "  <thead>\n",
              "    <tr style=\"text-align: right;\">\n",
              "      <th></th>\n",
              "      <th>bathrooms</th>\n",
              "      <th>bedrooms</th>\n",
              "      <th>building_id</th>\n",
              "      <th>created</th>\n",
              "      <th>description</th>\n",
              "      <th>display_address</th>\n",
              "      <th>features</th>\n",
              "      <th>latitude</th>\n",
              "      <th>listing_id</th>\n",
              "      <th>longitude</th>\n",
              "      <th>manager_id</th>\n",
              "      <th>photos</th>\n",
              "      <th>price</th>\n",
              "      <th>street_address</th>\n",
              "      <th>interest_level</th>\n",
              "    </tr>\n",
              "  </thead>\n",
              "  <tbody>\n",
              "    <tr>\n",
              "      <th>4</th>\n",
              "      <td>1.0</td>\n",
              "      <td>1</td>\n",
              "      <td>8579a0b0d54db803821a35a4a615e97a</td>\n",
              "      <td>2016-06-16 05:55:27</td>\n",
              "      <td>Spacious 1 Bedroom 1 Bathroom in Williamsburg!...</td>\n",
              "      <td>145 Borinquen Place</td>\n",
              "      <td>[Dining Room, Pre-War, Laundry in Building, Di...</td>\n",
              "      <td>40.7108</td>\n",
              "      <td>7170325</td>\n",
              "      <td>-73.9539</td>\n",
              "      <td>a10db4590843d78c784171a107bdacb4</td>\n",
              "      <td>[https://photos.renthop.com/2/7170325_3bb5ac84...</td>\n",
              "      <td>2400</td>\n",
              "      <td>145 Borinquen Place</td>\n",
              "      <td>medium</td>\n",
              "    </tr>\n",
              "    <tr>\n",
              "      <th>6</th>\n",
              "      <td>1.0</td>\n",
              "      <td>2</td>\n",
              "      <td>b8e75fc949a6cd8225b455648a951712</td>\n",
              "      <td>2016-06-01 05:44:33</td>\n",
              "      <td>BRAND NEW GUT RENOVATED TRUE 2 BEDROOMFind you...</td>\n",
              "      <td>East 44th</td>\n",
              "      <td>[Doorman, Elevator, Laundry in Building, Dishw...</td>\n",
              "      <td>40.7513</td>\n",
              "      <td>7092344</td>\n",
              "      <td>-73.9722</td>\n",
              "      <td>955db33477af4f40004820b4aed804a0</td>\n",
              "      <td>[https://photos.renthop.com/2/7092344_7663c19a...</td>\n",
              "      <td>3800</td>\n",
              "      <td>230 East 44th</td>\n",
              "      <td>low</td>\n",
              "    </tr>\n",
              "    <tr>\n",
              "      <th>9</th>\n",
              "      <td>1.0</td>\n",
              "      <td>2</td>\n",
              "      <td>cd759a988b8f23924b5a2058d5ab2b49</td>\n",
              "      <td>2016-06-14 15:19:59</td>\n",
              "      <td>**FLEX 2 BEDROOM WITH FULL PRESSURIZED WALL**L...</td>\n",
              "      <td>East 56th Street</td>\n",
              "      <td>[Doorman, Elevator, Laundry in Building, Laund...</td>\n",
              "      <td>40.7575</td>\n",
              "      <td>7158677</td>\n",
              "      <td>-73.9625</td>\n",
              "      <td>c8b10a317b766204f08e613cef4ce7a0</td>\n",
              "      <td>[https://photos.renthop.com/2/7158677_c897a134...</td>\n",
              "      <td>3495</td>\n",
              "      <td>405 East 56th Street</td>\n",
              "      <td>medium</td>\n",
              "    </tr>\n",
              "    <tr>\n",
              "      <th>10</th>\n",
              "      <td>1.5</td>\n",
              "      <td>3</td>\n",
              "      <td>53a5b119ba8f7b61d4e010512e0dfc85</td>\n",
              "      <td>2016-06-24 07:54:24</td>\n",
              "      <td>A Brand New 3 Bedroom 1.5 bath ApartmentEnjoy ...</td>\n",
              "      <td>Metropolitan Avenue</td>\n",
              "      <td>[]</td>\n",
              "      <td>40.7145</td>\n",
              "      <td>7211212</td>\n",
              "      <td>-73.9425</td>\n",
              "      <td>5ba989232d0489da1b5f2c45f6688adc</td>\n",
              "      <td>[https://photos.renthop.com/2/7211212_1ed4542e...</td>\n",
              "      <td>3000</td>\n",
              "      <td>792 Metropolitan Avenue</td>\n",
              "      <td>medium</td>\n",
              "    </tr>\n",
              "    <tr>\n",
              "      <th>15</th>\n",
              "      <td>1.0</td>\n",
              "      <td>0</td>\n",
              "      <td>bfb9405149bfff42a92980b594c28234</td>\n",
              "      <td>2016-06-28 03:50:23</td>\n",
              "      <td>Over-sized Studio w abundant closets. Availabl...</td>\n",
              "      <td>East 34th Street</td>\n",
              "      <td>[Doorman, Elevator, Fitness Center, Laundry in...</td>\n",
              "      <td>40.7439</td>\n",
              "      <td>7225292</td>\n",
              "      <td>-73.9743</td>\n",
              "      <td>2c3b41f588fbb5234d8a1e885a436cfa</td>\n",
              "      <td>[https://photos.renthop.com/2/7225292_901f1984...</td>\n",
              "      <td>2795</td>\n",
              "      <td>340 East 34th Street</td>\n",
              "      <td>low</td>\n",
              "    </tr>\n",
              "  </tbody>\n",
              "</table>\n",
              "</div>\n",
              "      <button class=\"colab-df-convert\" onclick=\"convertToInteractive('df-870ad57c-8314-4310-9296-40df59c59299')\"\n",
              "              title=\"Convert this dataframe to an interactive table.\"\n",
              "              style=\"display:none;\">\n",
              "        \n",
              "  <svg xmlns=\"http://www.w3.org/2000/svg\" height=\"24px\"viewBox=\"0 0 24 24\"\n",
              "       width=\"24px\">\n",
              "    <path d=\"M0 0h24v24H0V0z\" fill=\"none\"/>\n",
              "    <path d=\"M18.56 5.44l.94 2.06.94-2.06 2.06-.94-2.06-.94-.94-2.06-.94 2.06-2.06.94zm-11 1L8.5 8.5l.94-2.06 2.06-.94-2.06-.94L8.5 2.5l-.94 2.06-2.06.94zm10 10l.94 2.06.94-2.06 2.06-.94-2.06-.94-.94-2.06-.94 2.06-2.06.94z\"/><path d=\"M17.41 7.96l-1.37-1.37c-.4-.4-.92-.59-1.43-.59-.52 0-1.04.2-1.43.59L10.3 9.45l-7.72 7.72c-.78.78-.78 2.05 0 2.83L4 21.41c.39.39.9.59 1.41.59.51 0 1.02-.2 1.41-.59l7.78-7.78 2.81-2.81c.8-.78.8-2.07 0-2.86zM5.41 20L4 18.59l7.72-7.72 1.47 1.35L5.41 20z\"/>\n",
              "  </svg>\n",
              "      </button>\n",
              "      \n",
              "  <style>\n",
              "    .colab-df-container {\n",
              "      display:flex;\n",
              "      flex-wrap:wrap;\n",
              "      gap: 12px;\n",
              "    }\n",
              "\n",
              "    .colab-df-convert {\n",
              "      background-color: #E8F0FE;\n",
              "      border: none;\n",
              "      border-radius: 50%;\n",
              "      cursor: pointer;\n",
              "      display: none;\n",
              "      fill: #1967D2;\n",
              "      height: 32px;\n",
              "      padding: 0 0 0 0;\n",
              "      width: 32px;\n",
              "    }\n",
              "\n",
              "    .colab-df-convert:hover {\n",
              "      background-color: #E2EBFA;\n",
              "      box-shadow: 0px 1px 2px rgba(60, 64, 67, 0.3), 0px 1px 3px 1px rgba(60, 64, 67, 0.15);\n",
              "      fill: #174EA6;\n",
              "    }\n",
              "\n",
              "    [theme=dark] .colab-df-convert {\n",
              "      background-color: #3B4455;\n",
              "      fill: #D2E3FC;\n",
              "    }\n",
              "\n",
              "    [theme=dark] .colab-df-convert:hover {\n",
              "      background-color: #434B5C;\n",
              "      box-shadow: 0px 1px 3px 1px rgba(0, 0, 0, 0.15);\n",
              "      filter: drop-shadow(0px 1px 2px rgba(0, 0, 0, 0.3));\n",
              "      fill: #FFFFFF;\n",
              "    }\n",
              "  </style>\n",
              "\n",
              "      <script>\n",
              "        const buttonEl =\n",
              "          document.querySelector('#df-870ad57c-8314-4310-9296-40df59c59299 button.colab-df-convert');\n",
              "        buttonEl.style.display =\n",
              "          google.colab.kernel.accessAllowed ? 'block' : 'none';\n",
              "\n",
              "        async function convertToInteractive(key) {\n",
              "          const element = document.querySelector('#df-870ad57c-8314-4310-9296-40df59c59299');\n",
              "          const dataTable =\n",
              "            await google.colab.kernel.invokeFunction('convertToInteractive',\n",
              "                                                     [key], {});\n",
              "          if (!dataTable) return;\n",
              "\n",
              "          const docLinkHtml = 'Like what you see? Visit the ' +\n",
              "            '<a target=\"_blank\" href=https://colab.research.google.com/notebooks/data_table.ipynb>data table notebook</a>'\n",
              "            + ' to learn more about interactive tables.';\n",
              "          element.innerHTML = '';\n",
              "          dataTable['output_type'] = 'display_data';\n",
              "          await google.colab.output.renderOutput(dataTable, element);\n",
              "          const docLink = document.createElement('div');\n",
              "          docLink.innerHTML = docLinkHtml;\n",
              "          element.appendChild(docLink);\n",
              "        }\n",
              "      </script>\n",
              "    </div>\n",
              "  </div>\n",
              "  "
            ]
          },
          "metadata": {},
          "execution_count": 8
        }
      ],
      "source": [
        "df.head()"
      ]
    },
    {
      "cell_type": "markdown",
      "id": "c06fbb54",
      "metadata": {
        "id": "c06fbb54"
      },
      "source": [
        "Оценим размер датасета."
      ]
    },
    {
      "cell_type": "code",
      "execution_count": null,
      "id": "897050a5",
      "metadata": {
        "colab": {
          "base_uri": "https://localhost:8080/"
        },
        "id": "897050a5",
        "outputId": "4a6a0117-7d2d-4ab2-e411-140cf9a25e1d"
      },
      "outputs": [
        {
          "output_type": "execute_result",
          "data": {
            "text/plain": [
              "(49352, 15)"
            ]
          },
          "metadata": {},
          "execution_count": 9
        }
      ],
      "source": [
        "df.shape"
      ]
    },
    {
      "cell_type": "markdown",
      "id": "15e20e17",
      "metadata": {
        "id": "15e20e17"
      },
      "source": [
        "Оценим количество пропусков и типы данных в датасете."
      ]
    },
    {
      "cell_type": "code",
      "execution_count": null,
      "id": "001de374",
      "metadata": {
        "colab": {
          "base_uri": "https://localhost:8080/"
        },
        "id": "001de374",
        "outputId": "7d4d30a1-3952-44de-df87-302e49774aaf"
      },
      "outputs": [
        {
          "output_type": "stream",
          "name": "stdout",
          "text": [
            "<class 'pandas.core.frame.DataFrame'>\n",
            "Int64Index: 49352 entries, 4 to 124009\n",
            "Data columns (total 15 columns):\n",
            " #   Column           Non-Null Count  Dtype  \n",
            "---  ------           --------------  -----  \n",
            " 0   bathrooms        49352 non-null  float64\n",
            " 1   bedrooms         49352 non-null  int64  \n",
            " 2   building_id      49352 non-null  object \n",
            " 3   created          49352 non-null  object \n",
            " 4   description      49352 non-null  object \n",
            " 5   display_address  49352 non-null  object \n",
            " 6   features         49352 non-null  object \n",
            " 7   latitude         49352 non-null  float64\n",
            " 8   listing_id       49352 non-null  int64  \n",
            " 9   longitude        49352 non-null  float64\n",
            " 10  manager_id       49352 non-null  object \n",
            " 11  photos           49352 non-null  object \n",
            " 12  price            49352 non-null  int64  \n",
            " 13  street_address   49352 non-null  object \n",
            " 14  interest_level   49352 non-null  object \n",
            "dtypes: float64(3), int64(3), object(9)\n",
            "memory usage: 6.0+ MB\n",
            "None\n"
          ]
        }
      ],
      "source": [
        "print(df.info())"
      ]
    },
    {
      "cell_type": "markdown",
      "id": "24850f7f",
      "metadata": {
        "id": "24850f7f"
      },
      "source": [
        "Итого: во всём датасете нет ни одного пропуска, 6 столбцов с числовыми значениями, а остальные с объектовыми."
      ]
    },
    {
      "cell_type": "markdown",
      "id": "85952fbe",
      "metadata": {
        "id": "85952fbe"
      },
      "source": [
        "Описание признаков:\n",
        "\n",
        "0. bathrooms - количество ванных комнат\n",
        "1. bedrooms - количество спален\n",
        "2. building_id - id строения\n",
        "3. created - дата размещения\n",
        "4. description - описание апартаментов\n",
        "5. display_address - отображаемый адрес (?)\n",
        "6. features - особенности\n",
        "7. latitude - широта\n",
        "8. listing_id - id объявления\n",
        "9. longitude - долгота\n",
        "10. manager_id - id владельца\n",
        "11. photos - ссылки на фото\n",
        "12. price - цена в долларах\n",
        "13. street_address - улица\n",
        "14. interest_level - целевая переменная. Уровень интереса к объявлению."
      ]
    },
    {
      "cell_type": "code",
      "execution_count": null,
      "id": "e410b311",
      "metadata": {
        "colab": {
          "base_uri": "https://localhost:8080/",
          "height": 300
        },
        "id": "e410b311",
        "outputId": "efd33925-05d3-4a31-c50b-b922d22f5711"
      },
      "outputs": [
        {
          "output_type": "execute_result",
          "data": {
            "text/plain": [
              "         bathrooms      bedrooms      latitude    listing_id     longitude  \\\n",
              "count  49352.00000  49352.000000  49352.000000  4.935200e+04  49352.000000   \n",
              "mean       1.21218      1.541640     40.741545  7.024055e+06    -73.955716   \n",
              "std        0.50142      1.115018      0.638535  1.262746e+05      1.177912   \n",
              "min        0.00000      0.000000      0.000000  6.811957e+06   -118.271000   \n",
              "25%        1.00000      1.000000     40.728300  6.915888e+06    -73.991700   \n",
              "50%        1.00000      1.000000     40.751800  7.021070e+06    -73.977900   \n",
              "75%        1.00000      2.000000     40.774300  7.128733e+06    -73.954800   \n",
              "max       10.00000      8.000000     44.883500  7.753784e+06      0.000000   \n",
              "\n",
              "              price  \n",
              "count  4.935200e+04  \n",
              "mean   3.830174e+03  \n",
              "std    2.206687e+04  \n",
              "min    4.300000e+01  \n",
              "25%    2.500000e+03  \n",
              "50%    3.150000e+03  \n",
              "75%    4.100000e+03  \n",
              "max    4.490000e+06  "
            ],
            "text/html": [
              "\n",
              "  <div id=\"df-16778ec3-0642-4757-9f25-187d29dbecc3\">\n",
              "    <div class=\"colab-df-container\">\n",
              "      <div>\n",
              "<style scoped>\n",
              "    .dataframe tbody tr th:only-of-type {\n",
              "        vertical-align: middle;\n",
              "    }\n",
              "\n",
              "    .dataframe tbody tr th {\n",
              "        vertical-align: top;\n",
              "    }\n",
              "\n",
              "    .dataframe thead th {\n",
              "        text-align: right;\n",
              "    }\n",
              "</style>\n",
              "<table border=\"1\" class=\"dataframe\">\n",
              "  <thead>\n",
              "    <tr style=\"text-align: right;\">\n",
              "      <th></th>\n",
              "      <th>bathrooms</th>\n",
              "      <th>bedrooms</th>\n",
              "      <th>latitude</th>\n",
              "      <th>listing_id</th>\n",
              "      <th>longitude</th>\n",
              "      <th>price</th>\n",
              "    </tr>\n",
              "  </thead>\n",
              "  <tbody>\n",
              "    <tr>\n",
              "      <th>count</th>\n",
              "      <td>49352.00000</td>\n",
              "      <td>49352.000000</td>\n",
              "      <td>49352.000000</td>\n",
              "      <td>4.935200e+04</td>\n",
              "      <td>49352.000000</td>\n",
              "      <td>4.935200e+04</td>\n",
              "    </tr>\n",
              "    <tr>\n",
              "      <th>mean</th>\n",
              "      <td>1.21218</td>\n",
              "      <td>1.541640</td>\n",
              "      <td>40.741545</td>\n",
              "      <td>7.024055e+06</td>\n",
              "      <td>-73.955716</td>\n",
              "      <td>3.830174e+03</td>\n",
              "    </tr>\n",
              "    <tr>\n",
              "      <th>std</th>\n",
              "      <td>0.50142</td>\n",
              "      <td>1.115018</td>\n",
              "      <td>0.638535</td>\n",
              "      <td>1.262746e+05</td>\n",
              "      <td>1.177912</td>\n",
              "      <td>2.206687e+04</td>\n",
              "    </tr>\n",
              "    <tr>\n",
              "      <th>min</th>\n",
              "      <td>0.00000</td>\n",
              "      <td>0.000000</td>\n",
              "      <td>0.000000</td>\n",
              "      <td>6.811957e+06</td>\n",
              "      <td>-118.271000</td>\n",
              "      <td>4.300000e+01</td>\n",
              "    </tr>\n",
              "    <tr>\n",
              "      <th>25%</th>\n",
              "      <td>1.00000</td>\n",
              "      <td>1.000000</td>\n",
              "      <td>40.728300</td>\n",
              "      <td>6.915888e+06</td>\n",
              "      <td>-73.991700</td>\n",
              "      <td>2.500000e+03</td>\n",
              "    </tr>\n",
              "    <tr>\n",
              "      <th>50%</th>\n",
              "      <td>1.00000</td>\n",
              "      <td>1.000000</td>\n",
              "      <td>40.751800</td>\n",
              "      <td>7.021070e+06</td>\n",
              "      <td>-73.977900</td>\n",
              "      <td>3.150000e+03</td>\n",
              "    </tr>\n",
              "    <tr>\n",
              "      <th>75%</th>\n",
              "      <td>1.00000</td>\n",
              "      <td>2.000000</td>\n",
              "      <td>40.774300</td>\n",
              "      <td>7.128733e+06</td>\n",
              "      <td>-73.954800</td>\n",
              "      <td>4.100000e+03</td>\n",
              "    </tr>\n",
              "    <tr>\n",
              "      <th>max</th>\n",
              "      <td>10.00000</td>\n",
              "      <td>8.000000</td>\n",
              "      <td>44.883500</td>\n",
              "      <td>7.753784e+06</td>\n",
              "      <td>0.000000</td>\n",
              "      <td>4.490000e+06</td>\n",
              "    </tr>\n",
              "  </tbody>\n",
              "</table>\n",
              "</div>\n",
              "      <button class=\"colab-df-convert\" onclick=\"convertToInteractive('df-16778ec3-0642-4757-9f25-187d29dbecc3')\"\n",
              "              title=\"Convert this dataframe to an interactive table.\"\n",
              "              style=\"display:none;\">\n",
              "        \n",
              "  <svg xmlns=\"http://www.w3.org/2000/svg\" height=\"24px\"viewBox=\"0 0 24 24\"\n",
              "       width=\"24px\">\n",
              "    <path d=\"M0 0h24v24H0V0z\" fill=\"none\"/>\n",
              "    <path d=\"M18.56 5.44l.94 2.06.94-2.06 2.06-.94-2.06-.94-.94-2.06-.94 2.06-2.06.94zm-11 1L8.5 8.5l.94-2.06 2.06-.94-2.06-.94L8.5 2.5l-.94 2.06-2.06.94zm10 10l.94 2.06.94-2.06 2.06-.94-2.06-.94-.94-2.06-.94 2.06-2.06.94z\"/><path d=\"M17.41 7.96l-1.37-1.37c-.4-.4-.92-.59-1.43-.59-.52 0-1.04.2-1.43.59L10.3 9.45l-7.72 7.72c-.78.78-.78 2.05 0 2.83L4 21.41c.39.39.9.59 1.41.59.51 0 1.02-.2 1.41-.59l7.78-7.78 2.81-2.81c.8-.78.8-2.07 0-2.86zM5.41 20L4 18.59l7.72-7.72 1.47 1.35L5.41 20z\"/>\n",
              "  </svg>\n",
              "      </button>\n",
              "      \n",
              "  <style>\n",
              "    .colab-df-container {\n",
              "      display:flex;\n",
              "      flex-wrap:wrap;\n",
              "      gap: 12px;\n",
              "    }\n",
              "\n",
              "    .colab-df-convert {\n",
              "      background-color: #E8F0FE;\n",
              "      border: none;\n",
              "      border-radius: 50%;\n",
              "      cursor: pointer;\n",
              "      display: none;\n",
              "      fill: #1967D2;\n",
              "      height: 32px;\n",
              "      padding: 0 0 0 0;\n",
              "      width: 32px;\n",
              "    }\n",
              "\n",
              "    .colab-df-convert:hover {\n",
              "      background-color: #E2EBFA;\n",
              "      box-shadow: 0px 1px 2px rgba(60, 64, 67, 0.3), 0px 1px 3px 1px rgba(60, 64, 67, 0.15);\n",
              "      fill: #174EA6;\n",
              "    }\n",
              "\n",
              "    [theme=dark] .colab-df-convert {\n",
              "      background-color: #3B4455;\n",
              "      fill: #D2E3FC;\n",
              "    }\n",
              "\n",
              "    [theme=dark] .colab-df-convert:hover {\n",
              "      background-color: #434B5C;\n",
              "      box-shadow: 0px 1px 3px 1px rgba(0, 0, 0, 0.15);\n",
              "      filter: drop-shadow(0px 1px 2px rgba(0, 0, 0, 0.3));\n",
              "      fill: #FFFFFF;\n",
              "    }\n",
              "  </style>\n",
              "\n",
              "      <script>\n",
              "        const buttonEl =\n",
              "          document.querySelector('#df-16778ec3-0642-4757-9f25-187d29dbecc3 button.colab-df-convert');\n",
              "        buttonEl.style.display =\n",
              "          google.colab.kernel.accessAllowed ? 'block' : 'none';\n",
              "\n",
              "        async function convertToInteractive(key) {\n",
              "          const element = document.querySelector('#df-16778ec3-0642-4757-9f25-187d29dbecc3');\n",
              "          const dataTable =\n",
              "            await google.colab.kernel.invokeFunction('convertToInteractive',\n",
              "                                                     [key], {});\n",
              "          if (!dataTable) return;\n",
              "\n",
              "          const docLinkHtml = 'Like what you see? Visit the ' +\n",
              "            '<a target=\"_blank\" href=https://colab.research.google.com/notebooks/data_table.ipynb>data table notebook</a>'\n",
              "            + ' to learn more about interactive tables.';\n",
              "          element.innerHTML = '';\n",
              "          dataTable['output_type'] = 'display_data';\n",
              "          await google.colab.output.renderOutput(dataTable, element);\n",
              "          const docLink = document.createElement('div');\n",
              "          docLink.innerHTML = docLinkHtml;\n",
              "          element.appendChild(docLink);\n",
              "        }\n",
              "      </script>\n",
              "    </div>\n",
              "  </div>\n",
              "  "
            ]
          },
          "metadata": {},
          "execution_count": 11
        }
      ],
      "source": [
        "df.describe()"
      ]
    },
    {
      "cell_type": "markdown",
      "id": "0da42fa6",
      "metadata": {
        "id": "0da42fa6"
      },
      "source": [
        "## Предобработка данных"
      ]
    },
    {
      "cell_type": "markdown",
      "id": "76747186",
      "metadata": {
        "id": "76747186"
      },
      "source": [
        "#### Признак bathrooms"
      ]
    },
    {
      "cell_type": "markdown",
      "id": "398a92fb",
      "metadata": {
        "id": "398a92fb"
      },
      "source": [
        "Не совсем понятно почему тип данных для этог признака float, поэтому преобразуем его в int."
      ]
    },
    {
      "cell_type": "code",
      "execution_count": null,
      "id": "812e7d1e",
      "metadata": {
        "id": "812e7d1e"
      },
      "outputs": [],
      "source": [
        "df['bathrooms'] = df['bathrooms'].astype('int')"
      ]
    },
    {
      "cell_type": "code",
      "execution_count": null,
      "id": "83f691b0",
      "metadata": {
        "scrolled": true,
        "colab": {
          "base_uri": "https://localhost:8080/",
          "height": 297
        },
        "id": "83f691b0",
        "outputId": "ee273b81-2625-438f-d3f3-b5272a0b55b1"
      },
      "outputs": [
        {
          "output_type": "execute_result",
          "data": {
            "text/plain": [
              "<matplotlib.axes._subplots.AxesSubplot at 0x7f0120129be0>"
            ]
          },
          "metadata": {},
          "execution_count": 13
        },
        {
          "output_type": "display_data",
          "data": {
            "text/plain": [
              "<Figure size 432x288 with 1 Axes>"
            ],
            "image/png": "[encoded data removed]"
          },
          "metadata": {
            "needs_background": "light"
          }
        }
      ],
      "source": [
        "sns.histplot(data= df, x='bathrooms',binwidth = 1)"
      ]
    },
    {
      "cell_type": "code",
      "execution_count": null,
      "id": "3332c747",
      "metadata": {
        "scrolled": true,
        "colab": {
          "base_uri": "https://localhost:8080/"
        },
        "id": "3332c747",
        "outputId": "41d5e73d-521d-4465-f7e0-87788533a0a2"
      },
      "outputs": [
        {
          "output_type": "execute_result",
          "data": {
            "text/plain": [
              "(533, 15)"
            ]
          },
          "metadata": {},
          "execution_count": 14
        }
      ],
      "source": [
        "df.loc[((df['bathrooms'] == 0) | (df['bathrooms'] >= 4))].shape"
      ]
    },
    {
      "cell_type": "markdown",
      "id": "b62088d6",
      "metadata": {
        "id": "b62088d6"
      },
      "source": [
        "Как видим, в датасете присутствуют значения, где количество ванных комнат либо равно нулю, либо больше четырех. Будем считать такие значения выбросами и удалим их из датасета."
      ]
    },
    {
      "cell_type": "code",
      "execution_count": null,
      "id": "62fd8da5",
      "metadata": {
        "id": "62fd8da5"
      },
      "outputs": [],
      "source": [
        "df = df.loc[((df['bathrooms'] > 0) & (df['bathrooms'] < 4))]"
      ]
    },
    {
      "cell_type": "code",
      "execution_count": null,
      "id": "44c4a4f2",
      "metadata": {
        "colab": {
          "base_uri": "https://localhost:8080/",
          "height": 297
        },
        "id": "44c4a4f2",
        "outputId": "c489464f-dbdc-4927-9699-84cfa790d232"
      },
      "outputs": [
        {
          "output_type": "execute_result",
          "data": {
            "text/plain": [
              "<matplotlib.axes._subplots.AxesSubplot at 0x7f01123da790>"
            ]
          },
          "metadata": {},
          "execution_count": 16
        },
        {
          "output_type": "display_data",
          "data": {
            "text/plain": [
              "<Figure size 432x288 with 1 Axes>"
            ],
            "image/png": "[encoded data removed]"
          },
          "metadata": {
            "needs_background": "light"
          }
        }
      ],
      "source": [
        "sns.histplot(data= df, x='bathrooms', binwidth = 1 ,binrange = [1,4], element = 'bars')"
      ]
    },
    {
      "cell_type": "markdown",
      "id": "f041a636",
      "metadata": {
        "id": "f041a636"
      },
      "source": [
        "#### Признак bedrooms"
      ]
    },
    {
      "cell_type": "markdown",
      "id": "c563650f",
      "metadata": {
        "id": "c563650f"
      },
      "source": [
        "Определим количесво студий."
      ]
    },
    {
      "cell_type": "code",
      "execution_count": null,
      "id": "32543b72",
      "metadata": {
        "colab": {
          "base_uri": "https://localhost:8080/"
        },
        "id": "32543b72",
        "outputId": "4c5d2969-7059-4cbc-948c-3fe23fb73bcf"
      },
      "outputs": [
        {
          "output_type": "execute_result",
          "data": {
            "text/plain": [
              "9317"
            ]
          },
          "metadata": {},
          "execution_count": 17
        }
      ],
      "source": [
        "df[df['bedrooms'] == 0].shape[0]"
      ]
    },
    {
      "cell_type": "code",
      "execution_count": null,
      "id": "1dcec613",
      "metadata": {
        "colab": {
          "base_uri": "https://localhost:8080/"
        },
        "id": "1dcec613",
        "outputId": "d706069d-edc3-41e0-8e3a-dcfe727bfd81"
      },
      "outputs": [
        {
          "output_type": "execute_result",
          "data": {
            "text/plain": [
              "<matplotlib.axes._subplots.AxesSubplot at 0x7f01125acc40>"
            ]
          },
          "metadata": {},
          "execution_count": 18
        },
        {
          "output_type": "display_data",
          "data": {
            "text/plain": [
              "<Figure size 432x288 with 1 Axes>"
            ],
            "image/png": "[encoded data removed]"
          },
          "metadata": {
            "needs_background": "light"
          }
        }
      ],
      "source": [
        "sns.histplot(data= df, x='bedrooms', binwidth = 1)"
      ]
    },
    {
      "cell_type": "markdown",
      "id": "f6af8e68",
      "metadata": {
        "id": "f6af8e68"
      },
      "source": [
        "Как видим, в датасете присутствуют значения, где количество спальных комнат может быть больше четырех. Будем считать такие значения выбросами и удалим их из датасета."
      ]
    },
    {
      "cell_type": "code",
      "execution_count": null,
      "id": "c7f3e3ce",
      "metadata": {
        "colab": {
          "base_uri": "https://localhost:8080/"
        },
        "id": "c7f3e3ce",
        "outputId": "77d73c79-de84-4c29-c033-ace864297bac"
      },
      "outputs": [
        {
          "output_type": "execute_result",
          "data": {
            "text/plain": [
              "(222, 15)"
            ]
          },
          "metadata": {},
          "execution_count": 19
        }
      ],
      "source": [
        "df[df['bedrooms'] > 4].shape"
      ]
    },
    {
      "cell_type": "code",
      "execution_count": null,
      "id": "9cb1b085",
      "metadata": {
        "id": "9cb1b085"
      },
      "outputs": [],
      "source": [
        "df = df[df['bedrooms'] <= 4]"
      ]
    },
    {
      "cell_type": "code",
      "execution_count": null,
      "id": "7ed4f008",
      "metadata": {
        "colab": {
          "base_uri": "https://localhost:8080/"
        },
        "id": "7ed4f008",
        "outputId": "5d3c45f0-ce6d-48f3-8c6c-e4acbb5e50ad"
      },
      "outputs": [
        {
          "output_type": "execute_result",
          "data": {
            "text/plain": [
              "<matplotlib.axes._subplots.AxesSubplot at 0x7f0112033df0>"
            ]
          },
          "metadata": {},
          "execution_count": 21
        },
        {
          "output_type": "display_data",
          "data": {
            "text/plain": [
              "<Figure size 432x288 with 1 Axes>"
            ],
            "image/png": "[encoded data removed]"
          },
          "metadata": {
            "needs_background": "light"
          }
        }
      ],
      "source": [
        "sns.histplot(data= df, x='bedrooms', binwidth = 1, binrange = [0,5])"
      ]
    },
    {
      "cell_type": "markdown",
      "id": "fd5b0578",
      "metadata": {
        "id": "fd5b0578"
      },
      "source": [
        "#### Признак building_id"
      ]
    },
    {
      "cell_type": "code",
      "execution_count": null,
      "id": "b9ab63dc",
      "metadata": {
        "colab": {
          "base_uri": "https://localhost:8080/"
        },
        "id": "b9ab63dc",
        "outputId": "e6ac30fd-4d84-4004-a693-27bf64fc6ba4"
      },
      "outputs": [
        {
          "output_type": "execute_result",
          "data": {
            "text/plain": [
              "0                                   8179\n",
              "96274288c84ddd7d5c5d8e425ee75027     275\n",
              "11e1dec9d14b1a9e528386a2504b3afc     214\n",
              "bb8658a3e432fb62a440615333376345     212\n",
              "80a120d6bc3aba97f40fee8c2204524b     212\n",
              "                                    ... \n",
              "80b6723e1002c54dfd28d8c8cff69a61       1\n",
              "f499cb726ebde29a2a6082ea061f65a7       1\n",
              "63e7b6481175ab0c75c695d18abcbbb1       1\n",
              "70d79b34eb380b8fcfdd3eb392271bd9       1\n",
              "e125ca74a8353517f1c9dcc43fed068b       1\n",
              "Name: building_id, Length: 7496, dtype: int64"
            ]
          },
          "metadata": {},
          "execution_count": 22
        }
      ],
      "source": [
        "df['building_id'].value_counts()"
      ]
    },
    {
      "cell_type": "markdown",
      "id": "f87aa1ab",
      "metadata": {
        "id": "f87aa1ab"
      },
      "source": [
        "Видим, что в 8179 объявлениях не указан building_id. В целом, признак малоинформативен, поэтому его можно удалить."
      ]
    },
    {
      "cell_type": "markdown",
      "id": "9a63d436",
      "metadata": {
        "id": "9a63d436"
      },
      "source": [
        "#### Признак created"
      ]
    },
    {
      "cell_type": "code",
      "execution_count": null,
      "id": "a3e69224",
      "metadata": {
        "colab": {
          "base_uri": "https://localhost:8080/"
        },
        "id": "a3e69224",
        "outputId": "1eb3fdfd-15d9-4b0d-82c0-51a0bb935bd6"
      },
      "outputs": [
        {
          "output_type": "execute_result",
          "data": {
            "text/plain": [
              "4     2016-06-16 05:55:27\n",
              "6     2016-06-01 05:44:33\n",
              "9     2016-06-14 15:19:59\n",
              "10    2016-06-24 07:54:24\n",
              "15    2016-06-28 03:50:23\n",
              "Name: created, dtype: object"
            ]
          },
          "metadata": {},
          "execution_count": 23
        }
      ],
      "source": [
        "df['created'].head()"
      ]
    },
    {
      "cell_type": "markdown",
      "id": "9de27d8b",
      "metadata": {
        "id": "9de27d8b"
      },
      "source": [
        "Идея: попробую преобразовать признак created из типа object в тип datetime и затем разделить его на месяц и год для дальнейшего исследования."
      ]
    },
    {
      "cell_type": "code",
      "execution_count": null,
      "id": "a92dacd4",
      "metadata": {
        "id": "a92dacd4"
      },
      "outputs": [],
      "source": [
        "df['date of publication'] = pd.to_datetime(df['created'], errors = 'coerce')   # coerce - если возникнет ошибка, вставить NaT"
      ]
    },
    {
      "cell_type": "code",
      "execution_count": null,
      "id": "b8583011",
      "metadata": {
        "colab": {
          "base_uri": "https://localhost:8080/"
        },
        "id": "b8583011",
        "outputId": "4ed8913d-15eb-4f82-8140-a9afb7fb527d"
      },
      "outputs": [
        {
          "output_type": "execute_result",
          "data": {
            "text/plain": [
              "0"
            ]
          },
          "metadata": {},
          "execution_count": 25
        }
      ],
      "source": [
        "df[df['date of publication'].isnull() == True].shape[0]"
      ]
    },
    {
      "cell_type": "markdown",
      "id": "62aaf254",
      "metadata": {
        "id": "62aaf254"
      },
      "source": [
        "Без потерь преобразовали created в тип данных datetime. Теперь получим месяц и год публикации."
      ]
    },
    {
      "cell_type": "code",
      "execution_count": null,
      "id": "088e96cd",
      "metadata": {
        "id": "088e96cd"
      },
      "outputs": [],
      "source": [
        "df['month of publication'] = df['date of publication'].dt.month.astype('int')"
      ]
    },
    {
      "cell_type": "code",
      "execution_count": null,
      "id": "2106f97e",
      "metadata": {
        "colab": {
          "base_uri": "https://localhost:8080/"
        },
        "id": "2106f97e",
        "outputId": "5a834157-9773-4720-b624-f815fa58e5e7"
      },
      "outputs": [
        {
          "output_type": "execute_result",
          "data": {
            "text/plain": [
              "<matplotlib.axes._subplots.AxesSubplot at 0x7f01121ddf70>"
            ]
          },
          "metadata": {},
          "execution_count": 27
        },
        {
          "output_type": "display_data",
          "data": {
            "text/plain": [
              "<Figure size 432x288 with 1 Axes>"
            ],
            "image/png": "[encoded data removed]"
          },
          "metadata": {
            "needs_background": "light"
          }
        }
      ],
      "source": [
        "sns.histplot(data= df, x='month of publication', binwidth = 1, binrange = [1,12])"
      ]
    },
    {
      "cell_type": "code",
      "execution_count": null,
      "id": "fc55626a",
      "metadata": {
        "id": "fc55626a"
      },
      "outputs": [],
      "source": [
        "df['year of publication'] = df['date of publication'].dt.year.astype('int')"
      ]
    },
    {
      "cell_type": "code",
      "execution_count": null,
      "id": "46c79103",
      "metadata": {
        "colab": {
          "base_uri": "https://localhost:8080/"
        },
        "id": "46c79103",
        "outputId": "75cd8de1-0d76-49e8-8f6d-dc0153dade58"
      },
      "outputs": [
        {
          "output_type": "execute_result",
          "data": {
            "text/plain": [
              "0"
            ]
          },
          "metadata": {},
          "execution_count": 29
        }
      ],
      "source": [
        "df[df['year of publication'] != 2016].shape[0]"
      ]
    },
    {
      "cell_type": "markdown",
      "id": "ae8bb71d",
      "metadata": {
        "id": "ae8bb71d"
      },
      "source": [
        "Все объявления выложены в 2016 году, следовательно 'year of publication' можно удалить, т.к. он бесполезен."
      ]
    },
    {
      "cell_type": "markdown",
      "id": "b0b7b06b",
      "metadata": {
        "id": "b0b7b06b"
      },
      "source": [
        "Таким образом, в дальнейшем исследуем зависимость целевой переменной от месяца публикации, а признаки created, date of publication, year of publication удалим за ненадобностью. "
      ]
    },
    {
      "cell_type": "markdown",
      "id": "a0efc9d3",
      "metadata": {
        "id": "a0efc9d3"
      },
      "source": [
        "#### Признак listing_id"
      ]
    },
    {
      "cell_type": "markdown",
      "id": "5c24aae1",
      "metadata": {
        "id": "5c24aae1"
      },
      "source": [
        "Признак listing_id удалим, т.к. он бесполезен."
      ]
    },
    {
      "cell_type": "markdown",
      "id": "abc872d9",
      "metadata": {
        "id": "abc872d9"
      },
      "source": [
        "#### Признаки latitude и longitude"
      ]
    },
    {
      "cell_type": "markdown",
      "id": "f7bcbf5f",
      "metadata": {
        "id": "f7bcbf5f"
      },
      "source": [
        "Признаки latitude и longitude оставим без изменений."
      ]
    },
    {
      "cell_type": "markdown",
      "id": "3eaae27f",
      "metadata": {
        "id": "3eaae27f"
      },
      "source": [
        "#### Признак manager_id"
      ]
    },
    {
      "cell_type": "code",
      "execution_count": null,
      "id": "d91c6326",
      "metadata": {
        "colab": {
          "base_uri": "https://localhost:8080/"
        },
        "id": "d91c6326",
        "outputId": "b3c9195b-5a25-4534-d30e-dd1930b3f38f"
      },
      "outputs": [
        {
          "output_type": "execute_result",
          "data": {
            "text/plain": [
              "e6472c7237327dd3903b3d6f6a94515a    2497\n",
              "6e5c10246156ae5bdcd9b487ca99d96a     711\n",
              "62b685cc0d876c3a1a51d63a0d6a8082     399\n",
              "cb87dadbca78fad02b388dc9e8f25a5b     370\n",
              "8f5a9c893f6d602f4953fcc0b8e6e9b4     351\n",
              "                                    ... \n",
              "78d5262dbc517beb7105b1dd859243e6       1\n",
              "545729ea0435a0d41c5bd4fe11a374fb       1\n",
              "347fb4b4e2f436e96330f0ca8bade9e3       1\n",
              "fbdd56fe70632f67b031efe24563ebfd       1\n",
              "cda0d536fb182dfed7cc48f0884d3203       1\n",
              "Name: manager_id, Length: 3462, dtype: int64"
            ]
          },
          "metadata": {},
          "execution_count": 30
        }
      ],
      "source": [
        "df['manager_id'].value_counts()"
      ]
    },
    {
      "cell_type": "code",
      "execution_count": null,
      "id": "c5f47e0e",
      "metadata": {
        "colab": {
          "base_uri": "https://localhost:8080/"
        },
        "id": "c5f47e0e",
        "outputId": "d0e30d64-14ee-46b0-a4a8-8977d9722a85"
      },
      "outputs": [
        {
          "output_type": "execute_result",
          "data": {
            "text/plain": [
              "1844"
            ]
          },
          "metadata": {},
          "execution_count": 31
        }
      ],
      "source": [
        "df['manager_id'].value_counts()[df['manager_id'].value_counts() < 5].shape[0]"
      ]
    },
    {
      "cell_type": "markdown",
      "id": "80896243",
      "metadata": {
        "id": "80896243"
      },
      "source": [
        "Видим, что всего уникальных пользователей, выкладывающих объявления на сайте почти 3500, при этом у половины из них количество опубликованных объявлений меньше 5.\n",
        "\n",
        "Признак manager_id удалю, т.к.он сложен в обработке и малоинформативен."
      ]
    },
    {
      "cell_type": "markdown",
      "id": "6c95954d",
      "metadata": {
        "id": "6c95954d"
      },
      "source": [
        "#### Признак photos"
      ]
    },
    {
      "cell_type": "code",
      "execution_count": null,
      "id": "344fc58b",
      "metadata": {
        "colab": {
          "base_uri": "https://localhost:8080/"
        },
        "id": "344fc58b",
        "outputId": "6e911063-1323-4aa2-c82e-8ac63774db87"
      },
      "outputs": [
        {
          "output_type": "execute_result",
          "data": {
            "text/plain": [
              "['https://photos.renthop.com/2/7092344_7663c19af02c46104bc4c569f7162ae0.jpg',\n",
              " 'https://photos.renthop.com/2/7092344_8287349abe511d195a7b6129bf24af0e.jpg',\n",
              " 'https://photos.renthop.com/2/7092344_e9e6a2b7aa95aa7564fe3318cadcf4e7.jpg',\n",
              " 'https://photos.renthop.com/2/7092344_d51ee4b92fd9246633f93afe6e86d8f0.jpg',\n",
              " 'https://photos.renthop.com/2/7092344_f0573fa184ca130b1b6000f2fa90511c.jpg',\n",
              " 'https://photos.renthop.com/2/7092344_b2a62f769a59a317b0a243000db46fd0.jpg']"
            ]
          },
          "metadata": {},
          "execution_count": 32
        }
      ],
      "source": [
        "df.iloc[1, 11]"
      ]
    },
    {
      "cell_type": "markdown",
      "id": "0f60b634",
      "metadata": {
        "id": "0f60b634"
      },
      "source": [
        "Каждая ячейка представляет из себя список, элементы которого - ссылки на фотогографии. Каждая ссылка указывает на одну фотографию.\n",
        "\n",
        "Целесообразно будет оценить зависимость целевой переменной не от самих фотографий, а от их количества в каждом объявлении.\n",
        "Создадим новый признак \"number of photos\", а признак \"photos\" удалим."
      ]
    },
    {
      "cell_type": "code",
      "execution_count": null,
      "id": "27e87d3a",
      "metadata": {
        "id": "27e87d3a"
      },
      "outputs": [],
      "source": [
        "df['number of photos'] = df['photos'].apply(len)"
      ]
    },
    {
      "cell_type": "code",
      "execution_count": null,
      "id": "cf52e662",
      "metadata": {
        "colab": {
          "base_uri": "https://localhost:8080/"
        },
        "id": "cf52e662",
        "outputId": "bfbe51bc-c36d-4422-8e81-170425061fcb"
      },
      "outputs": [
        {
          "output_type": "execute_result",
          "data": {
            "text/plain": [
              "4     12\n",
              "6      6\n",
              "9      6\n",
              "10     5\n",
              "15     4\n",
              "Name: number of photos, dtype: int64"
            ]
          },
          "metadata": {},
          "execution_count": 34
        }
      ],
      "source": [
        "df['number of photos'].head()"
      ]
    },
    {
      "cell_type": "code",
      "execution_count": null,
      "id": "e95a9f3a",
      "metadata": {
        "colab": {
          "base_uri": "https://localhost:8080/"
        },
        "id": "e95a9f3a",
        "outputId": "d054e0f4-9128-4005-cf01-ac035e7c7d80"
      },
      "outputs": [
        {
          "output_type": "stream",
          "name": "stderr",
          "text": [
            "/usr/local/lib/python3.8/dist-packages/seaborn/_decorators.py:36: FutureWarning: Pass the following variable as a keyword arg: x. From version 0.12, the only valid positional argument will be `data`, and passing other arguments without an explicit keyword will result in an error or misinterpretation.\n",
            "  warnings.warn(\n"
          ]
        },
        {
          "output_type": "execute_result",
          "data": {
            "text/plain": [
              "<matplotlib.axes._subplots.AxesSubplot at 0x7f01125d7ca0>"
            ]
          },
          "metadata": {},
          "execution_count": 35
        },
        {
          "output_type": "display_data",
          "data": {
            "text/plain": [
              "<Figure size 432x288 with 1 Axes>"
            ],
            "image/png": "[encoded data removed]"
          },
          "metadata": {
            "needs_background": "light"
          }
        }
      ],
      "source": [
        "sns.boxplot(df['number of photos'])"
      ]
    },
    {
      "cell_type": "code",
      "execution_count": null,
      "id": "b4cc3b9c",
      "metadata": {
        "colab": {
          "base_uri": "https://localhost:8080/"
        },
        "id": "b4cc3b9c",
        "outputId": "1a7dfc1c-0f7e-4908-c3ae-c724320f3b53"
      },
      "outputs": [
        {
          "output_type": "execute_result",
          "data": {
            "text/plain": [
              "788"
            ]
          },
          "metadata": {},
          "execution_count": 36
        }
      ],
      "source": [
        "df[df['number of photos'] > 15].shape[0]"
      ]
    },
    {
      "cell_type": "code",
      "execution_count": null,
      "id": "6142765d",
      "metadata": {
        "id": "6142765d"
      },
      "outputs": [],
      "source": [
        "df = df[df['number of photos'] < 15]  #Удалим выбросы"
      ]
    },
    {
      "cell_type": "markdown",
      "id": "bea85663",
      "metadata": {
        "id": "bea85663"
      },
      "source": [
        "#### Признаки display_address и  street_address"
      ]
    },
    {
      "cell_type": "code",
      "execution_count": null,
      "id": "1cb44bad",
      "metadata": {
        "colab": {
          "base_uri": "https://localhost:8080/"
        },
        "id": "1cb44bad",
        "outputId": "eb034b63-3418-4274-845a-1cd061fa1382"
      },
      "outputs": [
        {
          "output_type": "execute_result",
          "data": {
            "text/plain": [
              "        display_address           street_address\n",
              "4   145 Borinquen Place      145 Borinquen Place\n",
              "6             East 44th            230 East 44th\n",
              "9      East 56th Street     405 East 56th Street\n",
              "10  Metropolitan Avenue  792 Metropolitan Avenue\n",
              "15     East 34th Street     340 East 34th Street"
            ],
            "text/html": [
              "\n",
              "  <div id=\"df-a2fade22-c719-470b-94af-f618f5a69401\">\n",
              "    <div class=\"colab-df-container\">\n",
              "      <div>\n",
              "<style scoped>\n",
              "    .dataframe tbody tr th:only-of-type {\n",
              "        vertical-align: middle;\n",
              "    }\n",
              "\n",
              "    .dataframe tbody tr th {\n",
              "        vertical-align: top;\n",
              "    }\n",
              "\n",
              "    .dataframe thead th {\n",
              "        text-align: right;\n",
              "    }\n",
              "</style>\n",
              "<table border=\"1\" class=\"dataframe\">\n",
              "  <thead>\n",
              "    <tr style=\"text-align: right;\">\n",
              "      <th></th>\n",
              "      <th>display_address</th>\n",
              "      <th>street_address</th>\n",
              "    </tr>\n",
              "  </thead>\n",
              "  <tbody>\n",
              "    <tr>\n",
              "      <th>4</th>\n",
              "      <td>145 Borinquen Place</td>\n",
              "      <td>145 Borinquen Place</td>\n",
              "    </tr>\n",
              "    <tr>\n",
              "      <th>6</th>\n",
              "      <td>East 44th</td>\n",
              "      <td>230 East 44th</td>\n",
              "    </tr>\n",
              "    <tr>\n",
              "      <th>9</th>\n",
              "      <td>East 56th Street</td>\n",
              "      <td>405 East 56th Street</td>\n",
              "    </tr>\n",
              "    <tr>\n",
              "      <th>10</th>\n",
              "      <td>Metropolitan Avenue</td>\n",
              "      <td>792 Metropolitan Avenue</td>\n",
              "    </tr>\n",
              "    <tr>\n",
              "      <th>15</th>\n",
              "      <td>East 34th Street</td>\n",
              "      <td>340 East 34th Street</td>\n",
              "    </tr>\n",
              "  </tbody>\n",
              "</table>\n",
              "</div>\n",
              "      <button class=\"colab-df-convert\" onclick=\"convertToInteractive('df-a2fade22-c719-470b-94af-f618f5a69401')\"\n",
              "              title=\"Convert this dataframe to an interactive table.\"\n",
              "              style=\"display:none;\">\n",
              "        \n",
              "  <svg xmlns=\"http://www.w3.org/2000/svg\" height=\"24px\"viewBox=\"0 0 24 24\"\n",
              "       width=\"24px\">\n",
              "    <path d=\"M0 0h24v24H0V0z\" fill=\"none\"/>\n",
              "    <path d=\"M18.56 5.44l.94 2.06.94-2.06 2.06-.94-2.06-.94-.94-2.06-.94 2.06-2.06.94zm-11 1L8.5 8.5l.94-2.06 2.06-.94-2.06-.94L8.5 2.5l-.94 2.06-2.06.94zm10 10l.94 2.06.94-2.06 2.06-.94-2.06-.94-.94-2.06-.94 2.06-2.06.94z\"/><path d=\"M17.41 7.96l-1.37-1.37c-.4-.4-.92-.59-1.43-.59-.52 0-1.04.2-1.43.59L10.3 9.45l-7.72 7.72c-.78.78-.78 2.05 0 2.83L4 21.41c.39.39.9.59 1.41.59.51 0 1.02-.2 1.41-.59l7.78-7.78 2.81-2.81c.8-.78.8-2.07 0-2.86zM5.41 20L4 18.59l7.72-7.72 1.47 1.35L5.41 20z\"/>\n",
              "  </svg>\n",
              "      </button>\n",
              "      \n",
              "  <style>\n",
              "    .colab-df-container {\n",
              "      display:flex;\n",
              "      flex-wrap:wrap;\n",
              "      gap: 12px;\n",
              "    }\n",
              "\n",
              "    .colab-df-convert {\n",
              "      background-color: #E8F0FE;\n",
              "      border: none;\n",
              "      border-radius: 50%;\n",
              "      cursor: pointer;\n",
              "      display: none;\n",
              "      fill: #1967D2;\n",
              "      height: 32px;\n",
              "      padding: 0 0 0 0;\n",
              "      width: 32px;\n",
              "    }\n",
              "\n",
              "    .colab-df-convert:hover {\n",
              "      background-color: #E2EBFA;\n",
              "      box-shadow: 0px 1px 2px rgba(60, 64, 67, 0.3), 0px 1px 3px 1px rgba(60, 64, 67, 0.15);\n",
              "      fill: #174EA6;\n",
              "    }\n",
              "\n",
              "    [theme=dark] .colab-df-convert {\n",
              "      background-color: #3B4455;\n",
              "      fill: #D2E3FC;\n",
              "    }\n",
              "\n",
              "    [theme=dark] .colab-df-convert:hover {\n",
              "      background-color: #434B5C;\n",
              "      box-shadow: 0px 1px 3px 1px rgba(0, 0, 0, 0.15);\n",
              "      filter: drop-shadow(0px 1px 2px rgba(0, 0, 0, 0.3));\n",
              "      fill: #FFFFFF;\n",
              "    }\n",
              "  </style>\n",
              "\n",
              "      <script>\n",
              "        const buttonEl =\n",
              "          document.querySelector('#df-a2fade22-c719-470b-94af-f618f5a69401 button.colab-df-convert');\n",
              "        buttonEl.style.display =\n",
              "          google.colab.kernel.accessAllowed ? 'block' : 'none';\n",
              "\n",
              "        async function convertToInteractive(key) {\n",
              "          const element = document.querySelector('#df-a2fade22-c719-470b-94af-f618f5a69401');\n",
              "          const dataTable =\n",
              "            await google.colab.kernel.invokeFunction('convertToInteractive',\n",
              "                                                     [key], {});\n",
              "          if (!dataTable) return;\n",
              "\n",
              "          const docLinkHtml = 'Like what you see? Visit the ' +\n",
              "            '<a target=\"_blank\" href=https://colab.research.google.com/notebooks/data_table.ipynb>data table notebook</a>'\n",
              "            + ' to learn more about interactive tables.';\n",
              "          element.innerHTML = '';\n",
              "          dataTable['output_type'] = 'display_data';\n",
              "          await google.colab.output.renderOutput(dataTable, element);\n",
              "          const docLink = document.createElement('div');\n",
              "          docLink.innerHTML = docLinkHtml;\n",
              "          element.appendChild(docLink);\n",
              "        }\n",
              "      </script>\n",
              "    </div>\n",
              "  </div>\n",
              "  "
            ]
          },
          "metadata": {},
          "execution_count": 38
        }
      ],
      "source": [
        "df[['display_address', 'street_address']].head()"
      ]
    },
    {
      "cell_type": "markdown",
      "id": "38ec74cb",
      "metadata": {
        "id": "38ec74cb"
      },
      "source": [
        "По-видимому display_address - это улица, а street_address - это конкрентый дом на этой улице. В дальнейшем можно будет удалить признак street_address, оставив при этом только display_address.  "
      ]
    },
    {
      "cell_type": "markdown",
      "id": "79512f91",
      "metadata": {
        "id": "79512f91"
      },
      "source": [
        "Выясним, сколько в датасете адресов, которым соответствует только одно объявление."
      ]
    },
    {
      "cell_type": "code",
      "execution_count": null,
      "id": "57d078e6",
      "metadata": {
        "colab": {
          "base_uri": "https://localhost:8080/"
        },
        "id": "57d078e6",
        "outputId": "09bf4cc0-d790-467b-9f57-b2d5b73a9367"
      },
      "outputs": [
        {
          "output_type": "execute_result",
          "data": {
            "text/plain": [
              "15001"
            ]
          },
          "metadata": {},
          "execution_count": 39
        }
      ],
      "source": [
        "df['street_address'].value_counts().shape[0]"
      ]
    },
    {
      "cell_type": "code",
      "execution_count": null,
      "id": "858418e3",
      "metadata": {
        "colab": {
          "base_uri": "https://localhost:8080/"
        },
        "id": "858418e3",
        "outputId": "9152d8c4-be5a-4806-cf24-12a7e0ac4b90"
      },
      "outputs": [
        {
          "output_type": "execute_result",
          "data": {
            "text/plain": [
              "6230"
            ]
          },
          "metadata": {},
          "execution_count": 40
        }
      ],
      "source": [
        "A = df['street_address'].value_counts()[df['street_address'].value_counts() >= 2].shape[0]\n",
        "A"
      ]
    },
    {
      "cell_type": "code",
      "execution_count": null,
      "id": "b455e4b7",
      "metadata": {
        "colab": {
          "base_uri": "https://localhost:8080/"
        },
        "id": "b455e4b7",
        "outputId": "59624917-8dd2-496d-becc-9b7088fad1e0"
      },
      "outputs": [
        {
          "output_type": "execute_result",
          "data": {
            "text/plain": [
              "8771"
            ]
          },
          "metadata": {},
          "execution_count": 41
        }
      ],
      "source": [
        "B = df['street_address'].value_counts()[df['street_address'].value_counts() < 2].shape[0]\n",
        "B"
      ]
    },
    {
      "cell_type": "code",
      "execution_count": null,
      "id": "69683985",
      "metadata": {
        "colab": {
          "base_uri": "https://localhost:8080/"
        },
        "id": "69683985",
        "outputId": "97e7f040-fa1b-43d2-9b26-66f877077ca7"
      },
      "outputs": [
        {
          "output_type": "execute_result",
          "data": {
            "text/plain": [
              "Количество адресов, на которые ссылаются больше 2-х объявлений     6230\n",
              "Количество адресов, на которые ссылается 1 объявление              8771\n",
              "Name: Соотношение адресов, dtype: int64"
            ]
          },
          "metadata": {},
          "execution_count": 42
        }
      ],
      "source": [
        "series = pd.Series([A,B], index = ['Количество адресов, на которые ссылаются больше 2-х объявлений ', 'Количество адресов, на которые ссылается 1 объявление'], name = 'Соотношение адресов')\n",
        "series"
      ]
    },
    {
      "cell_type": "code",
      "execution_count": null,
      "id": "f5b4d94e",
      "metadata": {
        "colab": {
          "base_uri": "https://localhost:8080/"
        },
        "id": "f5b4d94e",
        "outputId": "15167bb9-1611-404c-bd41-d6613204ece7"
      },
      "outputs": [
        {
          "output_type": "execute_result",
          "data": {
            "text/plain": [
              "<matplotlib.axes._subplots.AxesSubplot at 0x7f0112590460>"
            ]
          },
          "metadata": {},
          "execution_count": 43
        },
        {
          "output_type": "display_data",
          "data": {
            "text/plain": [
              "<Figure size 432x288 with 1 Axes>"
            ],
            "image/png": "[encoded data removed]"
          },
          "metadata": {}
        }
      ],
      "source": [
        "series.plot.pie()"
      ]
    },
    {
      "cell_type": "markdown",
      "id": "d4149bb8",
      "metadata": {
        "id": "d4149bb8"
      },
      "source": [
        "Количество адресов, на которые ссылаются по одному объявлению - 8771. Это почти что 20% данных от датасета. Избавимся от половины этих значений, чтобы модель не переучивалась и оставим популярные адреса."
      ]
    },
    {
      "cell_type": "markdown",
      "id": "dec60deb",
      "metadata": {
        "id": "dec60deb"
      },
      "source": [
        "###### Очищаем street_address"
      ]
    },
    {
      "cell_type": "code",
      "execution_count": null,
      "id": "1c00e1fe",
      "metadata": {
        "id": "1c00e1fe"
      },
      "outputs": [],
      "source": [
        "address_list = list(df['street_address'].value_counts()[df['street_address'].value_counts() < 2].index) # создадим список \n",
        "                                                                                                        #с адресами на удаление\n",
        "address_list = address_list[:int(0.5 * len(address_list))]"
      ]
    },
    {
      "cell_type": "code",
      "execution_count": null,
      "id": "07a99ddb",
      "metadata": {
        "colab": {
          "base_uri": "https://localhost:8080/"
        },
        "id": "07a99ddb",
        "outputId": "67e39272-ff64-4086-eaaf-27877bfb0dc2"
      },
      "outputs": [
        {
          "output_type": "execute_result",
          "data": {
            "text/plain": [
              "'145 Borinquen Place'"
            ],
            "application/vnd.google.colaboratory.intrinsic+json": {
              "type": "string"
            }
          },
          "metadata": {},
          "execution_count": 45
        }
      ],
      "source": [
        "df_list = df.to_numpy().tolist()      # переведём исходный dataframe в список, для облегчения работы с street_adress\n",
        "df_list[0][13]"
      ]
    },
    {
      "cell_type": "markdown",
      "id": "fe7899c1",
      "metadata": {
        "id": "fe7899c1"
      },
      "source": [
        "На всякий случай выясним, сколько объявлений по заданным адресам имеет значение interest_level = 'low'."
      ]
    },
    {
      "cell_type": "code",
      "execution_count": null,
      "id": "39aff6b9",
      "metadata": {
        "colab": {
          "base_uri": "https://localhost:8080/"
        },
        "id": "39aff6b9",
        "outputId": "c27cd4bf-4d86-4fcd-c3af-729c3c5161a5"
      },
      "outputs": [
        {
          "output_type": "execute_result",
          "data": {
            "text/plain": [
              "2521"
            ]
          },
          "metadata": {},
          "execution_count": 46
        }
      ],
      "source": [
        "counter = 0\n",
        "for i in range(len(df_list)):\n",
        "    if (df_list[i][13] in address_list) and (df_list[i][14] == 'low'):      # удаляем объявления с уникальными адресами\n",
        "        counter += 1\n",
        "        i +=1\n",
        "counter"
      ]
    },
    {
      "cell_type": "code",
      "execution_count": null,
      "id": "7862a2af",
      "metadata": {
        "id": "7862a2af"
      },
      "outputs": [],
      "source": [
        "i = 0\n",
        "while i < len(df_list):\n",
        "    if df_list[i][13] in address_list:      # удаляем объявления с уникальными адресами\n",
        "        del(df_list[i])\n",
        "    else:\n",
        "        i +=1"
      ]
    },
    {
      "cell_type": "code",
      "execution_count": null,
      "id": "add57449",
      "metadata": {
        "colab": {
          "base_uri": "https://localhost:8080/"
        },
        "id": "add57449",
        "outputId": "b04ce7a6-abfc-41f7-c91a-af9c4a370854"
      },
      "outputs": [
        {
          "output_type": "execute_result",
          "data": {
            "text/plain": [
              "Index(['bathrooms', 'bedrooms', 'building_id', 'created', 'description',\n",
              "       'display_address', 'features', 'latitude', 'listing_id', 'longitude',\n",
              "       'manager_id', 'photos', 'price', 'street_address', 'interest_level',\n",
              "       'date of publication', 'month of publication', 'year of publication',\n",
              "       'number of photos'],\n",
              "      dtype='object')"
            ]
          },
          "metadata": {},
          "execution_count": 48
        }
      ],
      "source": [
        "df.columns"
      ]
    },
    {
      "cell_type": "code",
      "execution_count": null,
      "id": "b3b08ba5",
      "metadata": {
        "colab": {
          "base_uri": "https://localhost:8080/"
        },
        "id": "b3b08ba5",
        "outputId": "de383c8e-321d-47cb-ef57-b59a4eb9d127"
      },
      "outputs": [
        {
          "output_type": "stream",
          "name": "stderr",
          "text": [
            "<ipython-input-49-1119333ab9eb>:1: VisibleDeprecationWarning: Creating an ndarray from ragged nested sequences (which is a list-or-tuple of lists-or-tuples-or ndarrays with different lengths or shapes) is deprecated. If you meant to do this, you must specify 'dtype=object' when creating the ndarray.\n",
            "  df = pd.DataFrame(np.array(df_list), columns = df.columns)  # Преобразуем список обратно в dataframe\n"
          ]
        }
      ],
      "source": [
        "df = pd.DataFrame(np.array(df_list), columns = df.columns)  # Преобразуем список обратно в dataframe"
      ]
    },
    {
      "cell_type": "code",
      "execution_count": null,
      "id": "92d8e3bd",
      "metadata": {
        "colab": {
          "base_uri": "https://localhost:8080/"
        },
        "id": "92d8e3bd",
        "outputId": "0881be7b-b174-4c52-f7c7-9319c38a53f7"
      },
      "outputs": [
        {
          "output_type": "execute_result",
          "data": {
            "text/plain": [
              "(43239, 19)"
            ]
          },
          "metadata": {},
          "execution_count": 50
        }
      ],
      "source": [
        "df.shape"
      ]
    },
    {
      "cell_type": "markdown",
      "id": "653725de",
      "metadata": {
        "id": "653725de"
      },
      "source": [
        "### Text preprocessing"
      ]
    },
    {
      "cell_type": "markdown",
      "id": "a1388af2",
      "metadata": {
        "id": "a1388af2"
      },
      "source": [
        "Попробую поработать с текстовыми признаками 'street address',features' и 'description'."
      ]
    },
    {
      "cell_type": "markdown",
      "id": "f9db097e",
      "metadata": {
        "id": "f9db097e"
      },
      "source": [
        "#### Признаки description и features"
      ]
    },
    {
      "cell_type": "markdown",
      "id": "253112ff",
      "metadata": {
        "id": "253112ff"
      },
      "source": [
        "Проанализируем содержимое description и features."
      ]
    },
    {
      "cell_type": "code",
      "execution_count": null,
      "id": "dc9af8f5",
      "metadata": {
        "colab": {
          "base_uri": "https://localhost:8080/",
          "height": 165
        },
        "id": "dc9af8f5",
        "outputId": "269f16de-a36d-4915-8e82-f3eaacb7bf90"
      },
      "outputs": [
        {
          "output_type": "execute_result",
          "data": {
            "text/plain": [
              "\"Absolutely stunning and spacious 2 bedroom flex in one of the most sought after white glove Condominiums in the Financial District. The apartment features gorgeous sleek finishes throughout, including stained hardwood floors, oversized windows providing plenty of natural sunlight, and immense closet space. The kitchen was designed to flow seamlessly into the living area. Dishwasher, and extra storage space that are all concealed by dark stained wood cabinetry. The rich, earthy tones throughout the unit evoke a warm and sensual feel to the space that is both welcoming and relaxing. The extra large stone bathroom boasts spa quality finishes, including ambient lighting, a deep soaking tub, Completing the picture, a wide entry hallway creates the perfect separation from the living space and allows for extra storage while the 10 ceilings create an open and grand feel throughout.Life on Water Street promises luxury, hotel quality amenities and white-glove services that include a 24 hour Doorman and Concierge, 360 Outdoor Rooftop, a Fitness Center, Billiards Room, Tenant's Lounge, Private Storage.Located across from the Seaport and steps from the chic eateries on quaint, cobblestoned Stone Street, this luxurious building puts residents in immediate proximity of fine dining and shopping. The address is also two blocks from the Fulton Street transit hub and adjacent to the Financial District. The building rewards its residents with direct subway access to the 2, 3, 4 and 5 trains.<br /><br /><br /><br /><br /><br /><p><a  website_redacted \""
            ],
            "application/vnd.google.colaboratory.intrinsic+json": {
              "type": "string"
            }
          },
          "metadata": {},
          "execution_count": 51
        }
      ],
      "source": [
        "df.iloc[100, 4]"
      ]
    },
    {
      "cell_type": "code",
      "execution_count": null,
      "id": "f4b29b72",
      "metadata": {
        "colab": {
          "base_uri": "https://localhost:8080/"
        },
        "id": "f4b29b72",
        "outputId": "86e94adc-caef-4f12-f617-3a23641cd309"
      },
      "outputs": [
        {
          "output_type": "execute_result",
          "data": {
            "text/plain": [
              "['Dining Room',\n",
              " 'Balcony',\n",
              " 'Furnished',\n",
              " 'Garden/Patio',\n",
              " 'Terrace',\n",
              " 'Laundry in Unit',\n",
              " 'Dishwasher',\n",
              " 'Hardwood Floors',\n",
              " 'No Fee',\n",
              " 'Outdoor Space']"
            ]
          },
          "metadata": {},
          "execution_count": 52
        }
      ],
      "source": [
        "df.iloc[100, 6]"
      ]
    },
    {
      "cell_type": "markdown",
      "id": "3fc9a4ec",
      "metadata": {
        "id": "3fc9a4ec"
      },
      "source": [
        "Преобразуем признак features так, чтобы он стал строкой, вместо списка."
      ]
    },
    {
      "cell_type": "code",
      "execution_count": null,
      "id": "ec3d76d7",
      "metadata": {
        "colab": {
          "base_uri": "https://localhost:8080/"
        },
        "id": "ec3d76d7",
        "outputId": "8637a858-e5c6-46be-d396-9db8b9583a4f"
      },
      "outputs": [
        {
          "output_type": "execute_result",
          "data": {
            "text/plain": [
              "0    Dining Room Pre-War Laundry in Building Dishwa...\n",
              "1    Doorman Elevator Laundry in Building Dishwashe...\n",
              "2    Doorman Elevator Laundry in Building Laundry i...\n",
              "3                                                     \n",
              "4    Doorman Elevator Fitness Center Laundry in Bui...\n",
              "Name: features_text, dtype: object"
            ]
          },
          "metadata": {},
          "execution_count": 53
        }
      ],
      "source": [
        "features_list = []\n",
        "for i, row in df.iterrows():\n",
        "    row['features'] = ' '.join(map(str, row['features']))\n",
        "    features_list.append(row['features'])\n",
        "df['features_text'] = features_list\n",
        "df['features_text'].head()"
      ]
    },
    {
      "cell_type": "markdown",
      "id": "990caa2e",
      "metadata": {
        "id": "990caa2e"
      },
      "source": [
        "Как видно выше, description и features содержат большое количество символов, которые не несут никакой смысловой нагрузки. Очистим эти данные."
      ]
    },
    {
      "cell_type": "markdown",
      "id": "96faa19b",
      "metadata": {
        "id": "96faa19b"
      },
      "source": [
        "Напишем функцию очистки текста от ненужных спец. симолов, ссылок, чисел и лишних пробелов."
      ]
    },
    {
      "cell_type": "code",
      "execution_count": null,
      "id": "b26235bc",
      "metadata": {
        "id": "b26235bc"
      },
      "outputs": [],
      "source": [
        "def clean_text(text):\n",
        "    # приводим текст к нижнему регистру\n",
        "    text = text.lower()\n",
        "    # создаем регулярное выражение для удаления лишних символов\n",
        "    regular = r'[\\*+\\#+\\№\\\"\\-+\\+\\=+\\?+\\&\\^\\.+\\;\\,+\\>+\\(\\)\\/+\\:\\\\+\\!+\\<+\\'S\\@+]'\n",
        "    # регулярное выражение для замены ссылки на \"URL\"\n",
        "    regular_url = r'(http\\S+)|(www\\S+)|([\\w\\d]+www\\S+)|([\\w\\d]+http\\S+)'\n",
        "    # удаляем лишние символы\n",
        "    text = re.sub(regular, '', text)\n",
        "    # заменяем ссылки на \"URL\"\n",
        "    text = re.sub(regular_url, r'URL', text)\n",
        "    # заменяем числа и цифры на ' NUM '\n",
        "    text = re.sub(r'(\\d+\\s\\d+)|(\\d+)',' NUM ', text)\n",
        "    # удаляем лишние пробелы\n",
        "    text = re.sub(r'\\s+', ' ', text)\n",
        "    # возвращаем очищенные данные\n",
        "    return text"
      ]
    },
    {
      "cell_type": "markdown",
      "id": "e32f1671",
      "metadata": {
        "id": "e32f1671"
      },
      "source": [
        "Очистим description."
      ]
    },
    {
      "cell_type": "code",
      "execution_count": null,
      "id": "37153930",
      "metadata": {
        "id": "37153930"
      },
      "outputs": [],
      "source": [
        "cleaned_text = []\n",
        "# загружаем список с английскими стоп-словами в переменную stop-words\n",
        "stop_words = stopwords.words('english')\n",
        "stop_words.append(['in','room','with','a','building','th','br','the','is','a','to'])\n",
        "\n",
        "for text in df['description']:\n",
        "    text = clean_text(text)\n",
        "    text = word_tokenize(text)      # токенизируем слова\n",
        "    for word in text:\n",
        "        if word not in stop_words:  # удаляем стоп-слова\n",
        "            pass\n",
        "        else:\n",
        "            text.remove(word)\n",
        "    cleaned_text.append(text)\n",
        "df['cleaned_description'] = cleaned_text   "
      ]
    },
    {
      "cell_type": "code",
      "execution_count": null,
      "id": "d67878b0",
      "metadata": {
        "colab": {
          "base_uri": "https://localhost:8080/"
        },
        "id": "d67878b0",
        "outputId": "62693e48-412e-4679-c277-16b895e4c3d6"
      },
      "outputs": [
        {
          "output_type": "execute_result",
          "data": {
            "text/plain": [
              "0    [spacious, NUM, bedroom, NUM, bathroom, willia...\n",
              "1    [brand, new, gut, renovated, true, NUM, bedroo...\n",
              "2    [flex, NUM, bedroom, full, pressurized, walllo...\n",
              "3    [brand, new, NUM, bedroom, NUM, bath, apartmen...\n",
              "4    [oversized, studio, w, abundant, closets, avai...\n",
              "Name: cleaned_description, dtype: object"
            ]
          },
          "metadata": {},
          "execution_count": 61
        }
      ],
      "source": [
        "df['cleaned_description'].head()"
      ]
    },
    {
      "cell_type": "markdown",
      "id": "47cad984",
      "metadata": {
        "id": "47cad984"
      },
      "source": [
        "Очистим features."
      ]
    },
    {
      "cell_type": "code",
      "execution_count": null,
      "id": "c17801db",
      "metadata": {
        "id": "c17801db"
      },
      "outputs": [],
      "source": [
        "cleaned_text = []\n",
        "# создаем список для хранения токенов\n",
        "# tokens = []\n",
        "for text in df['features_text']:\n",
        "    text = clean_text(text)\n",
        "    text = word_tokenize(text)\n",
        "    for word in text:\n",
        "        if word not in stop_words:\n",
        "            pass\n",
        "        else:\n",
        "            text.remove(word)\n",
        "    cleaned_text.append(text)\n",
        "df['cleaned_features'] = cleaned_text "
      ]
    },
    {
      "cell_type": "code",
      "execution_count": null,
      "id": "17744c27",
      "metadata": {
        "colab": {
          "base_uri": "https://localhost:8080/"
        },
        "id": "17744c27",
        "outputId": "7df99ac4-92ab-41a9-ed29-d4b95a15c9b3"
      },
      "outputs": [
        {
          "output_type": "execute_result",
          "data": {
            "text/plain": [
              "0    [dining, room, prewar, laundry, building, dish...\n",
              "1    [doorman, elevator, laundry, building, dishwas...\n",
              "2    [doorman, elevator, laundry, building, laundry...\n",
              "3                                                   []\n",
              "4    [doorman, elevator, fitness, center, laundry, ...\n",
              "Name: cleaned_features, dtype: object"
            ]
          },
          "metadata": {},
          "execution_count": 63
        }
      ],
      "source": [
        "df['cleaned_features'].head()"
      ]
    },
    {
      "cell_type": "markdown",
      "id": "263027d2",
      "metadata": {
        "id": "263027d2"
      },
      "source": [
        "Очистим street_address."
      ]
    },
    {
      "cell_type": "code",
      "execution_count": null,
      "id": "4eaa93b4",
      "metadata": {
        "id": "4eaa93b4"
      },
      "outputs": [],
      "source": [
        "cleaned_text = []\n",
        "for text in df['street_address']:\n",
        "    text = clean_text(text)\n",
        "    text = word_tokenize(text)\n",
        "    for word in text:\n",
        "        if word not in stop_words:\n",
        "            pass\n",
        "        else:\n",
        "            text.remove(word)\n",
        "    cleaned_text.append(text)\n",
        "df['cleaned_street_address'] = cleaned_text "
      ]
    },
    {
      "cell_type": "code",
      "execution_count": null,
      "id": "66974592",
      "metadata": {
        "colab": {
          "base_uri": "https://localhost:8080/"
        },
        "id": "66974592",
        "outputId": "b73e3062-bf54-460e-88fa-c37dc8500115"
      },
      "outputs": [
        {
          "output_type": "execute_result",
          "data": {
            "text/plain": [
              "0         [NUM, borinquen, place]\n",
              "1            [NUM, east, NUM, th]\n",
              "2    [NUM, east, NUM, th, street]\n",
              "3     [NUM, metropolitan, avenue]\n",
              "4    [NUM, east, NUM, th, street]\n",
              "Name: cleaned_street_address, dtype: object"
            ]
          },
          "metadata": {},
          "execution_count": 65
        }
      ],
      "source": [
        "df['cleaned_street_address'].head()"
      ]
    },
    {
      "cell_type": "markdown",
      "id": "e2a328a3",
      "metadata": {
        "id": "e2a328a3"
      },
      "source": [
        "Создадим новые признаки, которые будут отображать размер описания и особенностей."
      ]
    },
    {
      "cell_type": "code",
      "execution_count": null,
      "id": "8e93bfb3",
      "metadata": {
        "id": "8e93bfb3"
      },
      "outputs": [],
      "source": [
        "df['length of description'] = df['cleaned_description'].apply(len)"
      ]
    },
    {
      "cell_type": "code",
      "execution_count": null,
      "id": "9e4e38e2",
      "metadata": {
        "id": "9e4e38e2"
      },
      "outputs": [],
      "source": [
        "df['length of features'] = df['cleaned_features'].apply(len)"
      ]
    },
    {
      "cell_type": "markdown",
      "id": "d8c1958f",
      "metadata": {
        "id": "d8c1958f"
      },
      "source": [
        "#### Признак length of description"
      ]
    },
    {
      "cell_type": "code",
      "execution_count": null,
      "id": "66a384d9",
      "metadata": {
        "colab": {
          "base_uri": "https://localhost:8080/"
        },
        "id": "66a384d9",
        "outputId": "9298fc76-beb1-4e35-9d69-16f1dbedf3b0"
      },
      "outputs": [
        {
          "output_type": "stream",
          "name": "stderr",
          "text": [
            "/usr/local/lib/python3.8/dist-packages/seaborn/_decorators.py:36: FutureWarning: Pass the following variable as a keyword arg: x. From version 0.12, the only valid positional argument will be `data`, and passing other arguments without an explicit keyword will result in an error or misinterpretation.\n",
            "  warnings.warn(\n"
          ]
        },
        {
          "output_type": "execute_result",
          "data": {
            "text/plain": [
              "<matplotlib.axes._subplots.AxesSubplot at 0x7f0111fe5a90>"
            ]
          },
          "metadata": {},
          "execution_count": 68
        },
        {
          "output_type": "display_data",
          "data": {
            "text/plain": [
              "<Figure size 432x288 with 1 Axes>"
            ],
            "image/png": "[encoded data removed]"
          },
          "metadata": {
            "needs_background": "light"
          }
        }
      ],
      "source": [
        "sns.boxplot(df['length of description'])"
      ]
    },
    {
      "cell_type": "code",
      "execution_count": null,
      "id": "3341d8d9",
      "metadata": {
        "colab": {
          "base_uri": "https://localhost:8080/"
        },
        "id": "3341d8d9",
        "outputId": "fdfe6628-7847-4538-e003-bc512588d7eb"
      },
      "outputs": [
        {
          "output_type": "execute_result",
          "data": {
            "text/plain": [
              "(688, 25)"
            ]
          },
          "metadata": {},
          "execution_count": 69
        }
      ],
      "source": [
        "df[df['length of description'] > 190].shape"
      ]
    },
    {
      "cell_type": "markdown",
      "id": "9847fc64",
      "metadata": {
        "id": "9847fc64"
      },
      "source": [
        "Очистим от выбросов."
      ]
    },
    {
      "cell_type": "code",
      "execution_count": null,
      "id": "f6e60f85",
      "metadata": {
        "id": "f6e60f85"
      },
      "outputs": [],
      "source": [
        "df = df[df['length of description'] < 190]"
      ]
    },
    {
      "cell_type": "markdown",
      "id": "f149836d",
      "metadata": {
        "id": "f149836d"
      },
      "source": [
        "#### Признак length of features"
      ]
    },
    {
      "cell_type": "code",
      "execution_count": null,
      "id": "d862ca14",
      "metadata": {
        "colab": {
          "base_uri": "https://localhost:8080/"
        },
        "id": "d862ca14",
        "outputId": "85898850-d23d-456b-d460-2916e79aa1fa"
      },
      "outputs": [
        {
          "output_type": "stream",
          "name": "stderr",
          "text": [
            "/usr/local/lib/python3.8/dist-packages/seaborn/_decorators.py:36: FutureWarning: Pass the following variable as a keyword arg: x. From version 0.12, the only valid positional argument will be `data`, and passing other arguments without an explicit keyword will result in an error or misinterpretation.\n",
            "  warnings.warn(\n"
          ]
        },
        {
          "output_type": "execute_result",
          "data": {
            "text/plain": [
              "<matplotlib.axes._subplots.AxesSubplot at 0x7f01123d20a0>"
            ]
          },
          "metadata": {},
          "execution_count": 71
        },
        {
          "output_type": "display_data",
          "data": {
            "text/plain": [
              "<Figure size 432x288 with 1 Axes>"
            ],
            "image/png": "[encoded data removed]"
          },
          "metadata": {
            "needs_background": "light"
          }
        }
      ],
      "source": [
        "sns.boxplot(df['length of features'])"
      ]
    },
    {
      "cell_type": "code",
      "execution_count": null,
      "id": "adb07915",
      "metadata": {
        "colab": {
          "base_uri": "https://localhost:8080/"
        },
        "id": "adb07915",
        "outputId": "2e624a4e-d4f2-420a-d3c0-a87e06cc3197"
      },
      "outputs": [
        {
          "output_type": "execute_result",
          "data": {
            "text/plain": [
              "(752, 25)"
            ]
          },
          "metadata": {},
          "execution_count": 72
        }
      ],
      "source": [
        "df[df['length of features'] > 25].shape"
      ]
    },
    {
      "cell_type": "markdown",
      "id": "0f7c3140",
      "metadata": {
        "id": "0f7c3140"
      },
      "source": [
        "Очистим от выбросов."
      ]
    },
    {
      "cell_type": "code",
      "execution_count": null,
      "id": "11f71479",
      "metadata": {
        "id": "11f71479"
      },
      "outputs": [],
      "source": [
        "df = df[df['length of features'] < 25]"
      ]
    },
    {
      "cell_type": "markdown",
      "id": "cee77bd9",
      "metadata": {
        "id": "cee77bd9"
      },
      "source": [
        "#### Признак price"
      ]
    },
    {
      "cell_type": "code",
      "execution_count": null,
      "id": "67194e81",
      "metadata": {
        "colab": {
          "base_uri": "https://localhost:8080/"
        },
        "id": "67194e81",
        "outputId": "7e2be8bf-b732-4aa4-8abb-b3eb22d1d491"
      },
      "outputs": [
        {
          "output_type": "stream",
          "name": "stderr",
          "text": [
            "/usr/local/lib/python3.8/dist-packages/seaborn/_decorators.py:36: FutureWarning: Pass the following variable as a keyword arg: x. From version 0.12, the only valid positional argument will be `data`, and passing other arguments without an explicit keyword will result in an error or misinterpretation.\n",
            "  warnings.warn(\n"
          ]
        },
        {
          "output_type": "execute_result",
          "data": {
            "text/plain": [
              "<matplotlib.axes._subplots.AxesSubplot at 0x7f01124412e0>"
            ]
          },
          "metadata": {},
          "execution_count": 74
        },
        {
          "output_type": "display_data",
          "data": {
            "text/plain": [
              "<Figure size 432x288 with 1 Axes>"
            ],
            "image/png": "[encoded data removed]"
          },
          "metadata": {
            "needs_background": "light"
          }
        }
      ],
      "source": [
        "sns.boxplot(df['price'])"
      ]
    },
    {
      "cell_type": "code",
      "execution_count": null,
      "id": "82d858e9",
      "metadata": {
        "colab": {
          "base_uri": "https://localhost:8080/"
        },
        "id": "82d858e9",
        "outputId": "5410e486-0ca0-4ce6-cc17-dafb66e3fecf"
      },
      "outputs": [
        {
          "output_type": "execute_result",
          "data": {
            "text/plain": [
              "4"
            ]
          },
          "metadata": {},
          "execution_count": 75
        }
      ],
      "source": [
        "df[df['price'] > 500000].shape[0]"
      ]
    },
    {
      "cell_type": "code",
      "execution_count": null,
      "id": "ed7682cf",
      "metadata": {
        "id": "ed7682cf"
      },
      "outputs": [],
      "source": [
        "df = df[df['price'] < 500000]"
      ]
    },
    {
      "cell_type": "code",
      "execution_count": null,
      "id": "c4829eea",
      "metadata": {
        "colab": {
          "base_uri": "https://localhost:8080/"
        },
        "id": "c4829eea",
        "outputId": "6bd41106-9a55-45d4-a1cf-56ef9bc5511c"
      },
      "outputs": [
        {
          "output_type": "stream",
          "name": "stderr",
          "text": [
            "/usr/local/lib/python3.8/dist-packages/seaborn/distributions.py:2619: FutureWarning: `distplot` is a deprecated function and will be removed in a future version. Please adapt your code to use either `displot` (a figure-level function with similar flexibility) or `histplot` (an axes-level function for histograms).\n",
            "  warnings.warn(msg, FutureWarning)\n"
          ]
        },
        {
          "output_type": "display_data",
          "data": {
            "text/plain": [
              "<Figure size 720x504 with 1 Axes>"
            ],
            "image/png": "[encoded data removed]"
          },
          "metadata": {
            "needs_background": "light"
          }
        }
      ],
      "source": [
        "fig = plt.figure(figsize = (10,7))\n",
        "ax = fig.add_subplot(1,1,1)\n",
        "plt.axvline(df['price'].quantile(0.25), label = '25% quantile', color = 'red')\n",
        "plt.axvline(df['price'].quantile(0.75), label = '75% quantile', color = 'red')\n",
        "sns.distplot(df['price'], label = 'Price Density Distribution', fit = norm)\n",
        "plt.legend()\n",
        "plt.grid(True)"
      ]
    },
    {
      "cell_type": "code",
      "execution_count": null,
      "id": "c69c8370",
      "metadata": {
        "colab": {
          "base_uri": "https://localhost:8080/"
        },
        "id": "c69c8370",
        "outputId": "07821e0f-1972-4518-eea5-51c0d596c163"
      },
      "outputs": [
        {
          "output_type": "execute_result",
          "data": {
            "text/plain": [
              "520"
            ]
          },
          "metadata": {},
          "execution_count": 78
        }
      ],
      "source": [
        "df[df['price'] > 10000].shape[0]"
      ]
    },
    {
      "cell_type": "code",
      "execution_count": null,
      "id": "95edad9d",
      "metadata": {
        "id": "95edad9d"
      },
      "outputs": [],
      "source": [
        "df = df[df['price'] < 10000]"
      ]
    },
    {
      "cell_type": "code",
      "execution_count": null,
      "id": "32d227d4",
      "metadata": {
        "colab": {
          "base_uri": "https://localhost:8080/"
        },
        "id": "32d227d4",
        "outputId": "cc4282c4-4f5c-4c2b-87f3-e22f772445f1"
      },
      "outputs": [
        {
          "output_type": "stream",
          "name": "stderr",
          "text": [
            "/usr/local/lib/python3.8/dist-packages/seaborn/distributions.py:2619: FutureWarning: `distplot` is a deprecated function and will be removed in a future version. Please adapt your code to use either `displot` (a figure-level function with similar flexibility) or `histplot` (an axes-level function for histograms).\n",
            "  warnings.warn(msg, FutureWarning)\n"
          ]
        },
        {
          "output_type": "display_data",
          "data": {
            "text/plain": [
              "<Figure size 720x504 with 1 Axes>"
            ],
            "image/png": "[encoded data removed]"
          },
          "metadata": {
            "needs_background": "light"
          }
        }
      ],
      "source": [
        "fig = plt.figure(figsize = (10,7))\n",
        "ax = fig.add_subplot(1,1,1)\n",
        "plt.axvline(df['price'].quantile(0.25), label = '25% quantile', color = 'red')\n",
        "plt.axvline(df['price'].quantile(0.75), label = '75% quantile', color = 'red')\n",
        "sns.distplot(df['price'], label = 'Price Density Distribution', fit = norm)\n",
        "plt.legend()\n",
        "plt.grid(True)"
      ]
    },
    {
      "cell_type": "markdown",
      "id": "d1c6c28d",
      "metadata": {
        "id": "d1c6c28d"
      },
      "source": [
        "#### Признак interest_level"
      ]
    },
    {
      "cell_type": "code",
      "execution_count": null,
      "id": "740450d8",
      "metadata": {
        "colab": {
          "base_uri": "https://localhost:8080/",
          "height": 298
        },
        "id": "740450d8",
        "outputId": "42d57697-800b-4549-fe2e-d75bb206794d"
      },
      "outputs": [
        {
          "output_type": "execute_result",
          "data": {
            "text/plain": [
              "<matplotlib.axes._subplots.AxesSubplot at 0x7f00fd8726d0>"
            ]
          },
          "metadata": {},
          "execution_count": 81
        },
        {
          "output_type": "display_data",
          "data": {
            "text/plain": [
              "<Figure size 432x288 with 1 Axes>"
            ],
            "image/png": "[encoded data removed]"
          },
          "metadata": {
            "needs_background": "light"
          }
        }
      ],
      "source": [
        "sns.histplot(data= df, x='interest_level')"
      ]
    },
    {
      "cell_type": "code",
      "execution_count": null,
      "id": "81e556a5",
      "metadata": {
        "id": "81e556a5"
      },
      "outputs": [],
      "source": [
        "df = df.replace({'interest_level' : { 'high' : 0, 'medium' : 1, 'low' : 2 }})"
      ]
    },
    {
      "cell_type": "code",
      "execution_count": null,
      "id": "12a34fc8",
      "metadata": {
        "colab": {
          "base_uri": "https://localhost:8080/"
        },
        "id": "12a34fc8",
        "outputId": "6e52f194-3c49-421c-df3c-4fdc1fc503ed"
      },
      "outputs": [
        {
          "output_type": "stream",
          "name": "stdout",
          "text": [
            "Index(['bathrooms', 'bedrooms', 'building_id', 'created', 'description',\n",
            "       'display_address', 'features', 'latitude', 'listing_id', 'longitude',\n",
            "       'manager_id', 'photos', 'price', 'street_address', 'interest_level',\n",
            "       'date of publication', 'month of publication', 'year of publication',\n",
            "       'number of photos', 'features_text', 'cleaned_description',\n",
            "       'cleaned_features', 'cleaned_street_address', 'length of description',\n",
            "       'length of features'],\n",
            "      dtype='object')\n"
          ]
        }
      ],
      "source": [
        "print(df.columns)"
      ]
    },
    {
      "cell_type": "markdown",
      "id": "527af9e1",
      "metadata": {
        "id": "527af9e1"
      },
      "source": [
        "Удалим ненужные признаки."
      ]
    },
    {
      "cell_type": "code",
      "execution_count": null,
      "id": "670ac029",
      "metadata": {
        "id": "670ac029"
      },
      "outputs": [],
      "source": [
        "cols_2_drop = ['building_id', 'created', 'description', 'display_address', 'features', 'listing_id',\\\n",
        "               'manager_id', 'photos','street_address','date of publication', 'year of publication', 'features_text']"
      ]
    },
    {
      "cell_type": "code",
      "execution_count": null,
      "id": "3c96b699",
      "metadata": {
        "id": "3c96b699"
      },
      "outputs": [],
      "source": [
        "df = df.drop(cols_2_drop, axis = 1)"
      ]
    },
    {
      "cell_type": "code",
      "execution_count": null,
      "id": "fceb583f",
      "metadata": {
        "colab": {
          "base_uri": "https://localhost:8080/"
        },
        "id": "fceb583f",
        "outputId": "c875a04f-d188-4f8a-adec-deb3980e63f1"
      },
      "outputs": [
        {
          "output_type": "stream",
          "name": "stdout",
          "text": [
            "Index(['bathrooms', 'bedrooms', 'latitude', 'longitude', 'price',\n",
            "       'interest_level', 'month of publication', 'number of photos',\n",
            "       'cleaned_description', 'cleaned_features', 'cleaned_street_address',\n",
            "       'length of description', 'length of features'],\n",
            "      dtype='object')\n"
          ]
        }
      ],
      "source": [
        "print(df.columns)"
      ]
    },
    {
      "cell_type": "code",
      "execution_count": null,
      "id": "3888bd30",
      "metadata": {
        "colab": {
          "base_uri": "https://localhost:8080/"
        },
        "id": "3888bd30",
        "outputId": "e3a86e8c-c2d4-4a1e-9dbd-53792373c60e"
      },
      "outputs": [
        {
          "output_type": "execute_result",
          "data": {
            "text/plain": [
              "(40865, 13)"
            ]
          },
          "metadata": {},
          "execution_count": 87
        }
      ],
      "source": [
        "df.shape"
      ]
    },
    {
      "cell_type": "code",
      "execution_count": null,
      "id": "0ad7132d",
      "metadata": {
        "colab": {
          "base_uri": "https://localhost:8080/"
        },
        "id": "0ad7132d",
        "outputId": "83a3367d-14bd-4d76-f922-026a3b597787"
      },
      "outputs": [
        {
          "output_type": "stream",
          "name": "stdout",
          "text": [
            "<class 'pandas.core.frame.DataFrame'>\n",
            "Int64Index: 40865 entries, 0 to 43238\n",
            "Data columns (total 13 columns):\n",
            " #   Column                  Non-Null Count  Dtype \n",
            "---  ------                  --------------  ----- \n",
            " 0   bathrooms               40865 non-null  object\n",
            " 1   bedrooms                40865 non-null  object\n",
            " 2   latitude                40865 non-null  object\n",
            " 3   longitude               40865 non-null  object\n",
            " 4   price                   40865 non-null  object\n",
            " 5   interest_level          40865 non-null  int64 \n",
            " 6   month of publication    40865 non-null  object\n",
            " 7   number of photos        40865 non-null  object\n",
            " 8   cleaned_description     40865 non-null  object\n",
            " 9   cleaned_features        40865 non-null  object\n",
            " 10  cleaned_street_address  40865 non-null  object\n",
            " 11  length of description   40865 non-null  int64 \n",
            " 12  length of features      40865 non-null  int64 \n",
            "dtypes: int64(3), object(10)\n",
            "memory usage: 4.4+ MB\n",
            "None\n"
          ]
        }
      ],
      "source": [
        "print(df.info())"
      ]
    },
    {
      "cell_type": "markdown",
      "id": "7375d489",
      "metadata": {
        "id": "7375d489"
      },
      "source": [
        "Видимо, в результате работы с признаком street_address слетели типы данных признаков. Зададим их снова"
      ]
    },
    {
      "cell_type": "code",
      "execution_count": null,
      "id": "4b0d5a5a",
      "metadata": {
        "id": "4b0d5a5a"
      },
      "outputs": [],
      "source": [
        "df['bathrooms'] = df['bathrooms'].astype('int32')\n",
        "df['bedrooms'] = df['bedrooms'].astype('int32')\n",
        "df['latitude'] = df['latitude'].astype('float64')\n",
        "df['longitude'] = df['longitude'].astype('float64')\n",
        "df['price'] = df['price'].astype('int64')\n",
        "df['month of publication'] = df['month of publication'].astype('int32')\n",
        "df['number of photos'] = df['number of photos'].astype('int32')"
      ]
    },
    {
      "cell_type": "markdown",
      "id": "e1c3cd20",
      "metadata": {
        "id": "e1c3cd20"
      },
      "source": [
        "Взглянем на матрицу корреляций."
      ]
    },
    {
      "cell_type": "code",
      "execution_count": null,
      "id": "43e180e8",
      "metadata": {
        "colab": {
          "base_uri": "https://localhost:8080/",
          "height": 583
        },
        "id": "43e180e8",
        "outputId": "7b9148cf-42d8-4f9c-fa8d-e53d78ff3532"
      },
      "outputs": [
        {
          "output_type": "stream",
          "name": "stderr",
          "text": [
            "<ipython-input-90-378bc476c9b9>:2: MatplotlibDeprecationWarning: Adding an axes using the same arguments as a previous axes currently reuses the earlier instance.  In a future version, a new instance will always be created and returned.  Meanwhile, this warning can be suppressed, and the future behavior ensured, by passing a unique label to each axes instance.\n",
            "  ax = fig.add_subplot(1,1,1)\n"
          ]
        },
        {
          "output_type": "display_data",
          "data": {
            "text/plain": [
              "<Figure size 720x504 with 2 Axes>"
            ],
            "image/png": "[encoded data removed]"
          },
          "metadata": {
            "needs_background": "light"
          }
        }
      ],
      "source": [
        "plt.figure(figsize = (10,7))\n",
        "ax = fig.add_subplot(1,1,1)\n",
        "sns.heatmap(df.corr(), cmap = sns.color_palette('coolwarm', 10000), vmin = -1, center = 0, annot = True)\n",
        "plt.show()"
      ]
    },
    {
      "cell_type": "markdown",
      "id": "43376584",
      "metadata": {
        "id": "43376584"
      },
      "source": [
        "Видим, что признаки либо умеренно коррелируют, либо вообще не коррелируют между собой. Ни один из признаков напрямую не зависит от других."
      ]
    },
    {
      "cell_type": "markdown",
      "id": "89b228d2",
      "metadata": {
        "id": "89b228d2"
      },
      "source": [
        "#### Test dataset"
      ]
    },
    {
      "cell_type": "markdown",
      "id": "3ac08af9",
      "metadata": {
        "id": "3ac08af9"
      },
      "source": [
        "Проделаем основные шаги с тестовой выборкой."
      ]
    },
    {
      "cell_type": "code",
      "execution_count": null,
      "id": "a60cb087",
      "metadata": {
        "id": "a60cb087"
      },
      "outputs": [],
      "source": [
        "test_df = pd.read_json('/test.json')"
      ]
    },
    {
      "cell_type": "code",
      "execution_count": null,
      "id": "bed66303",
      "metadata": {
        "colab": {
          "base_uri": "https://localhost:8080/"
        },
        "id": "bed66303",
        "outputId": "babf48a8-fd3c-4ee2-f7d0-885faa71901b"
      },
      "outputs": [
        {
          "output_type": "execute_result",
          "data": {
            "text/plain": [
              "(74659, 14)"
            ]
          },
          "metadata": {},
          "execution_count": 235
        }
      ],
      "source": [
        "test_df.shape"
      ]
    },
    {
      "cell_type": "code",
      "execution_count": null,
      "id": "16acf37e",
      "metadata": {
        "colab": {
          "base_uri": "https://localhost:8080/"
        },
        "id": "16acf37e",
        "outputId": "7a43841c-ee5a-403b-a3d2-586d9893337d"
      },
      "outputs": [
        {
          "output_type": "stream",
          "name": "stdout",
          "text": [
            "<class 'pandas.core.frame.DataFrame'>\n",
            "Int64Index: 74659 entries, 0 to 124010\n",
            "Data columns (total 14 columns):\n",
            " #   Column           Non-Null Count  Dtype  \n",
            "---  ------           --------------  -----  \n",
            " 0   bathrooms        74659 non-null  float64\n",
            " 1   bedrooms         74659 non-null  int64  \n",
            " 2   building_id      74659 non-null  object \n",
            " 3   created          74659 non-null  object \n",
            " 4   description      74659 non-null  object \n",
            " 5   display_address  74659 non-null  object \n",
            " 6   features         74659 non-null  object \n",
            " 7   latitude         74659 non-null  float64\n",
            " 8   listing_id       74659 non-null  int64  \n",
            " 9   longitude        74659 non-null  float64\n",
            " 10  manager_id       74659 non-null  object \n",
            " 11  photos           74659 non-null  object \n",
            " 12  price            74659 non-null  int64  \n",
            " 13  street_address   74659 non-null  object \n",
            "dtypes: float64(3), int64(3), object(8)\n",
            "memory usage: 8.5+ MB\n",
            "None\n"
          ]
        }
      ],
      "source": [
        "print(test_df.info())"
      ]
    },
    {
      "cell_type": "code",
      "execution_count": null,
      "id": "48059133",
      "metadata": {
        "id": "48059133"
      },
      "outputs": [],
      "source": [
        "test_df['bathrooms'] = test_df['bathrooms'].astype('int')\n",
        "test_df['date of publication'] = pd.to_datetime(test_df['created'], errors = 'coerce')\n",
        "test_df['month of publication'] = test_df['date of publication'].dt.month.astype('int')\n",
        "test_df['number of photos'] = test_df['photos'].apply(len)"
      ]
    },
    {
      "cell_type": "code",
      "execution_count": null,
      "id": "86953516",
      "metadata": {
        "colab": {
          "base_uri": "https://localhost:8080/"
        },
        "id": "86953516",
        "outputId": "08f85691-c51c-4f65-ebaf-ef31908afd8e"
      },
      "outputs": [
        {
          "output_type": "execute_result",
          "data": {
            "text/plain": [
              "0    Elevator Laundry in Building Laundry in Unit D...\n",
              "1                    Pre-War Dogs Allowed Cats Allowed\n",
              "2                    Pre-War Dogs Allowed Cats Allowed\n",
              "3            Hardwood Floors Dogs Allowed Cats Allowed\n",
              "5    Roof Deck Doorman Elevator Fitness Center Pre-...\n",
              "Name: features_text, dtype: object"
            ]
          },
          "metadata": {},
          "execution_count": 238
        }
      ],
      "source": [
        "features_list = []\n",
        "for i, row in test_df.iterrows():\n",
        "    row['features'] = ' '.join(map(str, row['features']))\n",
        "    features_list.append(row['features'])\n",
        "test_df['features_text'] = features_list\n",
        "test_df['features_text'].head()"
      ]
    },
    {
      "cell_type": "code",
      "execution_count": null,
      "id": "627f0946",
      "metadata": {
        "id": "627f0946"
      },
      "outputs": [],
      "source": [
        "cleaned_text = []\n",
        "# загружаем список с английскими стоп-словами в переменную stop-words\n",
        "stop_words = stopwords.words('english')\n",
        "stop_words.append(['in','room','with','a','building','th','br','the','is','a','to'])\n",
        "\n",
        "for text in test_df['description']:\n",
        "    text = clean_text(text)\n",
        "    text = word_tokenize(text)      # токенизируем слова\n",
        "    for word in text:\n",
        "        if word not in stop_words:  # удаляем стоп-слова\n",
        "            pass\n",
        "        else:\n",
        "            text.remove(word)\n",
        "    cleaned_text.append(text)\n",
        "test_df['cleaned_description'] = cleaned_text "
      ]
    },
    {
      "cell_type": "code",
      "execution_count": null,
      "id": "1385414c",
      "metadata": {
        "id": "1385414c"
      },
      "outputs": [],
      "source": [
        "cleaned_text = []\n",
        "# создаем список для хранения токенов\n",
        "# tokens = []\n",
        "for text in test_df['features_text']:\n",
        "    text = clean_text(text)\n",
        "    text = word_tokenize(text)\n",
        "    for word in text:\n",
        "        if word not in stop_words:\n",
        "            pass\n",
        "        else:\n",
        "            text.remove(word)\n",
        "    cleaned_text.append(text)\n",
        "test_df['cleaned_features'] = cleaned_text"
      ]
    },
    {
      "cell_type": "code",
      "execution_count": null,
      "id": "9bbdd27b",
      "metadata": {
        "id": "9bbdd27b"
      },
      "outputs": [],
      "source": [
        "cleaned_text = []\n",
        "for text in test_df['street_address']:\n",
        "    text = clean_text(text)\n",
        "    text = word_tokenize(text)\n",
        "    for word in text:\n",
        "        if word not in stop_words:\n",
        "            pass\n",
        "        else:\n",
        "            text.remove(word)\n",
        "    cleaned_text.append(text)\n",
        "test_df['cleaned_street_address'] = cleaned_text"
      ]
    },
    {
      "cell_type": "code",
      "execution_count": null,
      "id": "430c77d2",
      "metadata": {
        "id": "430c77d2"
      },
      "outputs": [],
      "source": [
        "test_df['length of description'] = test_df['cleaned_description'].apply(len)\n",
        "test_df['length of features'] = test_df['cleaned_features'].apply(len)"
      ]
    },
    {
      "cell_type": "code",
      "execution_count": null,
      "id": "ece9273c",
      "metadata": {
        "id": "ece9273c"
      },
      "outputs": [],
      "source": [
        "cols_2_drop = ['building_id', 'created', 'description', 'display_address', 'features', 'listing_id',\\\n",
        "               'manager_id', 'photos','street_address','date of publication', 'features_text']"
      ]
    },
    {
      "cell_type": "code",
      "execution_count": null,
      "id": "5683cd75",
      "metadata": {
        "id": "5683cd75"
      },
      "outputs": [],
      "source": [
        "test_df = test_df.drop(cols_2_drop, axis = 1)"
      ]
    },
    {
      "cell_type": "code",
      "execution_count": null,
      "id": "5105c258",
      "metadata": {
        "colab": {
          "base_uri": "https://localhost:8080/"
        },
        "id": "5105c258",
        "outputId": "e8123f58-6dd6-447a-dc14-748b9dee85b6"
      },
      "outputs": [
        {
          "output_type": "stream",
          "name": "stdout",
          "text": [
            "<class 'pandas.core.frame.DataFrame'>\n",
            "Int64Index: 74659 entries, 0 to 124010\n",
            "Data columns (total 12 columns):\n",
            " #   Column                  Non-Null Count  Dtype  \n",
            "---  ------                  --------------  -----  \n",
            " 0   bathrooms               74659 non-null  int64  \n",
            " 1   bedrooms                74659 non-null  int64  \n",
            " 2   latitude                74659 non-null  float64\n",
            " 3   longitude               74659 non-null  float64\n",
            " 4   price                   74659 non-null  int64  \n",
            " 5   month of publication    74659 non-null  int64  \n",
            " 6   number of photos        74659 non-null  int64  \n",
            " 7   cleaned_description     74659 non-null  object \n",
            " 8   cleaned_features        74659 non-null  object \n",
            " 9   cleaned_street_address  74659 non-null  object \n",
            " 10  length of description   74659 non-null  int64  \n",
            " 11  length of features      74659 non-null  int64  \n",
            "dtypes: float64(2), int64(7), object(3)\n",
            "memory usage: 7.4+ MB\n",
            "None\n"
          ]
        }
      ],
      "source": [
        "print(test_df.info())"
      ]
    },
    {
      "cell_type": "markdown",
      "id": "243fcb3a",
      "metadata": {
        "id": "243fcb3a"
      },
      "source": [
        "### Финальная часть"
      ]
    },
    {
      "cell_type": "code",
      "execution_count": null,
      "id": "04f968cd",
      "metadata": {
        "id": "04f968cd"
      },
      "outputs": [],
      "source": [
        "X_train = df.drop('interest_level', axis = 1)"
      ]
    },
    {
      "cell_type": "code",
      "execution_count": null,
      "id": "e668e976",
      "metadata": {
        "id": "e668e976"
      },
      "outputs": [],
      "source": [
        "y_train = df['interest_level']"
      ]
    },
    {
      "cell_type": "code",
      "execution_count": null,
      "id": "ba8dedea",
      "metadata": {
        "id": "ba8dedea"
      },
      "outputs": [],
      "source": [
        "X_test = test_df\n"
      ]
    },
    {
      "cell_type": "code",
      "execution_count": null,
      "id": "a7f66ff6",
      "metadata": {
        "id": "a7f66ff6"
      },
      "outputs": [],
      "source": [
        "# Переводим в строковые значения train\n",
        "\n",
        "cleaned_description_list = []\n",
        "for i, row in X_train.iterrows():\n",
        "    row['cleaned_description'] = ' '.join(map(str, row['cleaned_description']))\n",
        "    cleaned_description_list.append(row['cleaned_description'])\n",
        "X_train['cleaned_description'] = cleaned_description_list\n",
        "\n",
        "cleaned_feature_list = []\n",
        "for i, row in X_train.iterrows():\n",
        "    row['cleaned_features'] = ' '.join(map(str, row['cleaned_features']))\n",
        "    cleaned_feature_list.append(row['cleaned_features'])\n",
        "X_train['cleaned_features'] = cleaned_feature_list\n",
        "\n",
        "cleaned_address_list = []\n",
        "for i, row in X_train.iterrows():\n",
        "    row['cleaned_street_address'] = ' '.join(map(str, row['cleaned_street_address']))\n",
        "    cleaned_address_list.append(row['cleaned_street_address'])\n",
        "X_train['cleaned_street_address'] = cleaned_address_list"
      ]
    },
    {
      "cell_type": "code",
      "source": [
        "# Переводим в строковые значения test\n",
        "cleaned_description_list = []\n",
        "for i, row in X_test.iterrows():\n",
        "    row['cleaned_description'] = ' '.join(map(str, row['cleaned_description']))\n",
        "    cleaned_description_list.append(row['cleaned_description'])\n",
        "X_test['cleaned_description'] = cleaned_description_list\n",
        "\n",
        "cleaned_feature_list = []\n",
        "for i, row in X_test.iterrows():\n",
        "    row['cleaned_features'] = ' '.join(map(str, row['cleaned_features']))\n",
        "    cleaned_feature_list.append(row['cleaned_features'])\n",
        "X_test['cleaned_features'] = cleaned_feature_list\n",
        "\n",
        "cleaned_address_list = []\n",
        "for i, row in X_test.iterrows():\n",
        "    row['cleaned_street_address'] = ' '.join(map(str, row['cleaned_street_address']))\n",
        "    cleaned_address_list.append(row['cleaned_street_address'])\n",
        "X_test['cleaned_street_address'] = cleaned_address_list"
      ],
      "metadata": {
        "id": "ddym6ybXN2uM"
      },
      "id": "ddym6ybXN2uM",
      "execution_count": null,
      "outputs": []
    },
    {
      "cell_type": "markdown",
      "source": [
        "В качестве модели буду использовать Catboost. Данная модель основана на алгоритме градиентного бустинга. Преимущество catboost в том, что он может работать как с категориальными, так и с текстовыми признаками."
      ],
      "metadata": {
        "id": "Y9Oa-fDgBYey"
      },
      "id": "Y9Oa-fDgBYey"
    },
    {
      "cell_type": "code",
      "source": [
        "# scaler = StandardScaler()\n",
        "# X_train[['bathrooms', 'bedrooms', 'latitude', 'longitude','price','month of publication','number of photos', \\\n",
        "#          'length of description', 'length of features']] = scaler.fit_transform(X_train[['bathrooms', 'bedrooms', \\\n",
        "#             'latitude', 'longitude','price','month of publication', \\\n",
        "#             'number of photos', 'length of description', 'length of features']])\n",
        "\n"
      ],
      "metadata": {
        "id": "L-VRhf-iNJlv"
      },
      "id": "L-VRhf-iNJlv",
      "execution_count": null,
      "outputs": []
    },
    {
      "cell_type": "code",
      "source": [
        "# X_test[['bathrooms', 'bedrooms', 'latitude', 'longitude','price','month of publication','number of photos', \\\n",
        "#          'length of description', 'length of features']] = scaler.transform(X_test[['bathrooms', 'bedrooms', \\\n",
        "#             'latitude', 'longitude','price','month of publication', \\\n",
        "#             'number of photos', 'length of description', 'length of features']])\n",
        "# X_test.head()"
      ],
      "metadata": {
        "id": "ZSQWeTNreIAV"
      },
      "id": "ZSQWeTNreIAV",
      "execution_count": null,
      "outputs": []
    },
    {
      "cell_type": "code",
      "execution_count": null,
      "id": "41c6a1ed",
      "metadata": {
        "id": "41c6a1ed"
      },
      "outputs": [],
      "source": [
        "category_features = ['month of publication']\n",
        "text_features = ['cleaned_description','cleaned_features' , 'cleaned_street_address']"
      ]
    },
    {
      "cell_type": "code",
      "execution_count": null,
      "id": "6fccbd1f",
      "metadata": {
        "id": "6fccbd1f"
      },
      "outputs": [],
      "source": [
        "parameters = {'loss_function': 'MultiClass',\n",
        "              'random_seed': 42,\n",
        "              'verbose': False,\n",
        "              'learning_rate': 0.5,\n",
        "              'depth': 6,\n",
        "              'n_estimators': 1000,\n",
        "              'task_type': 'GPU'}"
      ]
    },
    {
      "cell_type": "code",
      "execution_count": null,
      "id": "6ff092aa",
      "metadata": {
        "id": "6ff092aa"
      },
      "outputs": [],
      "source": [
        "Train = Pool(data = X_train,\n",
        "             label = y_train,\n",
        "             cat_features = category_features,\n",
        "             text_features = text_features)"
      ]
    },
    {
      "cell_type": "code",
      "execution_count": null,
      "id": "d6c3960b",
      "metadata": {
        "id": "d6c3960b"
      },
      "outputs": [],
      "source": [
        "model = CatBoostClassifier(**parameters)"
      ]
    },
    {
      "cell_type": "code",
      "execution_count": null,
      "id": "0b91f170",
      "metadata": {
        "colab": {
          "base_uri": "https://localhost:8080/"
        },
        "id": "0b91f170",
        "outputId": "24dc2ca0-d6cc-4956-8855-72a79a725313"
      },
      "outputs": [
        {
          "output_type": "execute_result",
          "data": {
            "text/plain": [
              "<catboost.core.CatBoostClassifier at 0x7f00fd8820a0>"
            ]
          },
          "metadata": {},
          "execution_count": 254
        }
      ],
      "source": [
        "model.fit(Train)"
      ]
    },
    {
      "cell_type": "code",
      "execution_count": null,
      "id": "9aefc19d",
      "metadata": {
        "id": "9aefc19d"
      },
      "outputs": [],
      "source": [
        "Test = Pool(data = X_test,\n",
        "             cat_features = category_features,\n",
        "             text_features = text_features)"
      ]
    },
    {
      "cell_type": "code",
      "source": [
        "predictions_train = model.predict_proba(Train)"
      ],
      "metadata": {
        "id": "gwfPMoTlnlrn"
      },
      "id": "gwfPMoTlnlrn",
      "execution_count": null,
      "outputs": []
    },
    {
      "cell_type": "code",
      "source": [
        "predictions_test = model.predict_proba(Test)"
      ],
      "metadata": {
        "id": "-8p6KuLds6E4"
      },
      "id": "-8p6KuLds6E4",
      "execution_count": null,
      "outputs": []
    },
    {
      "cell_type": "code",
      "source": [
        "pred = pd.DataFrame(predictions_test)\n",
        "pred.head()"
      ],
      "metadata": {
        "colab": {
          "base_uri": "https://localhost:8080/",
          "height": 206
        },
        "id": "sYqM3AKLtGZD",
        "outputId": "12ca089d-6fec-472e-d040-e6b18b9e0370"
      },
      "id": "sYqM3AKLtGZD",
      "execution_count": null,
      "outputs": [
        {
          "output_type": "execute_result",
          "data": {
            "text/plain": [
              "          0         1         2\n",
              "0  0.058929  0.482576  0.458495\n",
              "1  0.197604  0.223931  0.578465\n",
              "2  0.005745  0.022476  0.971778\n",
              "3  0.183400  0.331954  0.484646\n",
              "4  0.046665  0.242673  0.710662"
            ],
            "text/html": [
              "\n",
              "  <div id=\"df-e422be00-80b3-4639-966d-0c15b787b9e9\">\n",
              "    <div class=\"colab-df-container\">\n",
              "      <div>\n",
              "<style scoped>\n",
              "    .dataframe tbody tr th:only-of-type {\n",
              "        vertical-align: middle;\n",
              "    }\n",
              "\n",
              "    .dataframe tbody tr th {\n",
              "        vertical-align: top;\n",
              "    }\n",
              "\n",
              "    .dataframe thead th {\n",
              "        text-align: right;\n",
              "    }\n",
              "</style>\n",
              "<table border=\"1\" class=\"dataframe\">\n",
              "  <thead>\n",
              "    <tr style=\"text-align: right;\">\n",
              "      <th></th>\n",
              "      <th>0</th>\n",
              "      <th>1</th>\n",
              "      <th>2</th>\n",
              "    </tr>\n",
              "  </thead>\n",
              "  <tbody>\n",
              "    <tr>\n",
              "      <th>0</th>\n",
              "      <td>0.058929</td>\n",
              "      <td>0.482576</td>\n",
              "      <td>0.458495</td>\n",
              "    </tr>\n",
              "    <tr>\n",
              "      <th>1</th>\n",
              "      <td>0.197604</td>\n",
              "      <td>0.223931</td>\n",
              "      <td>0.578465</td>\n",
              "    </tr>\n",
              "    <tr>\n",
              "      <th>2</th>\n",
              "      <td>0.005745</td>\n",
              "      <td>0.022476</td>\n",
              "      <td>0.971778</td>\n",
              "    </tr>\n",
              "    <tr>\n",
              "      <th>3</th>\n",
              "      <td>0.183400</td>\n",
              "      <td>0.331954</td>\n",
              "      <td>0.484646</td>\n",
              "    </tr>\n",
              "    <tr>\n",
              "      <th>4</th>\n",
              "      <td>0.046665</td>\n",
              "      <td>0.242673</td>\n",
              "      <td>0.710662</td>\n",
              "    </tr>\n",
              "  </tbody>\n",
              "</table>\n",
              "</div>\n",
              "      <button class=\"colab-df-convert\" onclick=\"convertToInteractive('df-e422be00-80b3-4639-966d-0c15b787b9e9')\"\n",
              "              title=\"Convert this dataframe to an interactive table.\"\n",
              "              style=\"display:none;\">\n",
              "        \n",
              "  <svg xmlns=\"http://www.w3.org/2000/svg\" height=\"24px\"viewBox=\"0 0 24 24\"\n",
              "       width=\"24px\">\n",
              "    <path d=\"M0 0h24v24H0V0z\" fill=\"none\"/>\n",
              "    <path d=\"M18.56 5.44l.94 2.06.94-2.06 2.06-.94-2.06-.94-.94-2.06-.94 2.06-2.06.94zm-11 1L8.5 8.5l.94-2.06 2.06-.94-2.06-.94L8.5 2.5l-.94 2.06-2.06.94zm10 10l.94 2.06.94-2.06 2.06-.94-2.06-.94-.94-2.06-.94 2.06-2.06.94z\"/><path d=\"M17.41 7.96l-1.37-1.37c-.4-.4-.92-.59-1.43-.59-.52 0-1.04.2-1.43.59L10.3 9.45l-7.72 7.72c-.78.78-.78 2.05 0 2.83L4 21.41c.39.39.9.59 1.41.59.51 0 1.02-.2 1.41-.59l7.78-7.78 2.81-2.81c.8-.78.8-2.07 0-2.86zM5.41 20L4 18.59l7.72-7.72 1.47 1.35L5.41 20z\"/>\n",
              "  </svg>\n",
              "      </button>\n",
              "      \n",
              "  <style>\n",
              "    .colab-df-container {\n",
              "      display:flex;\n",
              "      flex-wrap:wrap;\n",
              "      gap: 12px;\n",
              "    }\n",
              "\n",
              "    .colab-df-convert {\n",
              "      background-color: #E8F0FE;\n",
              "      border: none;\n",
              "      border-radius: 50%;\n",
              "      cursor: pointer;\n",
              "      display: none;\n",
              "      fill: #1967D2;\n",
              "      height: 32px;\n",
              "      padding: 0 0 0 0;\n",
              "      width: 32px;\n",
              "    }\n",
              "\n",
              "    .colab-df-convert:hover {\n",
              "      background-color: #E2EBFA;\n",
              "      box-shadow: 0px 1px 2px rgba(60, 64, 67, 0.3), 0px 1px 3px 1px rgba(60, 64, 67, 0.15);\n",
              "      fill: #174EA6;\n",
              "    }\n",
              "\n",
              "    [theme=dark] .colab-df-convert {\n",
              "      background-color: #3B4455;\n",
              "      fill: #D2E3FC;\n",
              "    }\n",
              "\n",
              "    [theme=dark] .colab-df-convert:hover {\n",
              "      background-color: #434B5C;\n",
              "      box-shadow: 0px 1px 3px 1px rgba(0, 0, 0, 0.15);\n",
              "      filter: drop-shadow(0px 1px 2px rgba(0, 0, 0, 0.3));\n",
              "      fill: #FFFFFF;\n",
              "    }\n",
              "  </style>\n",
              "\n",
              "      <script>\n",
              "        const buttonEl =\n",
              "          document.querySelector('#df-e422be00-80b3-4639-966d-0c15b787b9e9 button.colab-df-convert');\n",
              "        buttonEl.style.display =\n",
              "          google.colab.kernel.accessAllowed ? 'block' : 'none';\n",
              "\n",
              "        async function convertToInteractive(key) {\n",
              "          const element = document.querySelector('#df-e422be00-80b3-4639-966d-0c15b787b9e9');\n",
              "          const dataTable =\n",
              "            await google.colab.kernel.invokeFunction('convertToInteractive',\n",
              "                                                     [key], {});\n",
              "          if (!dataTable) return;\n",
              "\n",
              "          const docLinkHtml = 'Like what you see? Visit the ' +\n",
              "            '<a target=\"_blank\" href=https://colab.research.google.com/notebooks/data_table.ipynb>data table notebook</a>'\n",
              "            + ' to learn more about interactive tables.';\n",
              "          element.innerHTML = '';\n",
              "          dataTable['output_type'] = 'display_data';\n",
              "          await google.colab.output.renderOutput(dataTable, element);\n",
              "          const docLink = document.createElement('div');\n",
              "          docLink.innerHTML = docLinkHtml;\n",
              "          element.appendChild(docLink);\n",
              "        }\n",
              "      </script>\n",
              "    </div>\n",
              "  </div>\n",
              "  "
            ]
          },
          "metadata": {},
          "execution_count": 231
        }
      ]
    },
    {
      "cell_type": "code",
      "source": [
        "submission = pd.read_csv('/content/sample_submission.csv')\n",
        "submission.head()"
      ],
      "metadata": {
        "colab": {
          "base_uri": "https://localhost:8080/",
          "height": 206
        },
        "id": "FmYhkql1wLc_",
        "outputId": "58b3e8c9-f2b0-454e-bc32-d6720b37b43f"
      },
      "id": "FmYhkql1wLc_",
      "execution_count": null,
      "outputs": [
        {
          "output_type": "execute_result",
          "data": {
            "text/plain": [
              "   listing_id      high    medium       low\n",
              "0     7142618  0.077788  0.227529  0.694683\n",
              "1     7210040  0.077788  0.227529  0.694683\n",
              "2     7174566  0.077788  0.227529  0.694683\n",
              "3     7191391  0.077788  0.227529  0.694683\n",
              "4     7171695  0.077788  0.227529  0.694683"
            ],
            "text/html": [
              "\n",
              "  <div id=\"df-c2110830-eb6b-4d44-b6d7-5cb9cb7086ad\">\n",
              "    <div class=\"colab-df-container\">\n",
              "      <div>\n",
              "<style scoped>\n",
              "    .dataframe tbody tr th:only-of-type {\n",
              "        vertical-align: middle;\n",
              "    }\n",
              "\n",
              "    .dataframe tbody tr th {\n",
              "        vertical-align: top;\n",
              "    }\n",
              "\n",
              "    .dataframe thead th {\n",
              "        text-align: right;\n",
              "    }\n",
              "</style>\n",
              "<table border=\"1\" class=\"dataframe\">\n",
              "  <thead>\n",
              "    <tr style=\"text-align: right;\">\n",
              "      <th></th>\n",
              "      <th>listing_id</th>\n",
              "      <th>high</th>\n",
              "      <th>medium</th>\n",
              "      <th>low</th>\n",
              "    </tr>\n",
              "  </thead>\n",
              "  <tbody>\n",
              "    <tr>\n",
              "      <th>0</th>\n",
              "      <td>7142618</td>\n",
              "      <td>0.077788</td>\n",
              "      <td>0.227529</td>\n",
              "      <td>0.694683</td>\n",
              "    </tr>\n",
              "    <tr>\n",
              "      <th>1</th>\n",
              "      <td>7210040</td>\n",
              "      <td>0.077788</td>\n",
              "      <td>0.227529</td>\n",
              "      <td>0.694683</td>\n",
              "    </tr>\n",
              "    <tr>\n",
              "      <th>2</th>\n",
              "      <td>7174566</td>\n",
              "      <td>0.077788</td>\n",
              "      <td>0.227529</td>\n",
              "      <td>0.694683</td>\n",
              "    </tr>\n",
              "    <tr>\n",
              "      <th>3</th>\n",
              "      <td>7191391</td>\n",
              "      <td>0.077788</td>\n",
              "      <td>0.227529</td>\n",
              "      <td>0.694683</td>\n",
              "    </tr>\n",
              "    <tr>\n",
              "      <th>4</th>\n",
              "      <td>7171695</td>\n",
              "      <td>0.077788</td>\n",
              "      <td>0.227529</td>\n",
              "      <td>0.694683</td>\n",
              "    </tr>\n",
              "  </tbody>\n",
              "</table>\n",
              "</div>\n",
              "      <button class=\"colab-df-convert\" onclick=\"convertToInteractive('df-c2110830-eb6b-4d44-b6d7-5cb9cb7086ad')\"\n",
              "              title=\"Convert this dataframe to an interactive table.\"\n",
              "              style=\"display:none;\">\n",
              "        \n",
              "  <svg xmlns=\"http://www.w3.org/2000/svg\" height=\"24px\"viewBox=\"0 0 24 24\"\n",
              "       width=\"24px\">\n",
              "    <path d=\"M0 0h24v24H0V0z\" fill=\"none\"/>\n",
              "    <path d=\"M18.56 5.44l.94 2.06.94-2.06 2.06-.94-2.06-.94-.94-2.06-.94 2.06-2.06.94zm-11 1L8.5 8.5l.94-2.06 2.06-.94-2.06-.94L8.5 2.5l-.94 2.06-2.06.94zm10 10l.94 2.06.94-2.06 2.06-.94-2.06-.94-.94-2.06-.94 2.06-2.06.94z\"/><path d=\"M17.41 7.96l-1.37-1.37c-.4-.4-.92-.59-1.43-.59-.52 0-1.04.2-1.43.59L10.3 9.45l-7.72 7.72c-.78.78-.78 2.05 0 2.83L4 21.41c.39.39.9.59 1.41.59.51 0 1.02-.2 1.41-.59l7.78-7.78 2.81-2.81c.8-.78.8-2.07 0-2.86zM5.41 20L4 18.59l7.72-7.72 1.47 1.35L5.41 20z\"/>\n",
              "  </svg>\n",
              "      </button>\n",
              "      \n",
              "  <style>\n",
              "    .colab-df-container {\n",
              "      display:flex;\n",
              "      flex-wrap:wrap;\n",
              "      gap: 12px;\n",
              "    }\n",
              "\n",
              "    .colab-df-convert {\n",
              "      background-color: #E8F0FE;\n",
              "      border: none;\n",
              "      border-radius: 50%;\n",
              "      cursor: pointer;\n",
              "      display: none;\n",
              "      fill: #1967D2;\n",
              "      height: 32px;\n",
              "      padding: 0 0 0 0;\n",
              "      width: 32px;\n",
              "    }\n",
              "\n",
              "    .colab-df-convert:hover {\n",
              "      background-color: #E2EBFA;\n",
              "      box-shadow: 0px 1px 2px rgba(60, 64, 67, 0.3), 0px 1px 3px 1px rgba(60, 64, 67, 0.15);\n",
              "      fill: #174EA6;\n",
              "    }\n",
              "\n",
              "    [theme=dark] .colab-df-convert {\n",
              "      background-color: #3B4455;\n",
              "      fill: #D2E3FC;\n",
              "    }\n",
              "\n",
              "    [theme=dark] .colab-df-convert:hover {\n",
              "      background-color: #434B5C;\n",
              "      box-shadow: 0px 1px 3px 1px rgba(0, 0, 0, 0.15);\n",
              "      filter: drop-shadow(0px 1px 2px rgba(0, 0, 0, 0.3));\n",
              "      fill: #FFFFFF;\n",
              "    }\n",
              "  </style>\n",
              "\n",
              "      <script>\n",
              "        const buttonEl =\n",
              "          document.querySelector('#df-c2110830-eb6b-4d44-b6d7-5cb9cb7086ad button.colab-df-convert');\n",
              "        buttonEl.style.display =\n",
              "          google.colab.kernel.accessAllowed ? 'block' : 'none';\n",
              "\n",
              "        async function convertToInteractive(key) {\n",
              "          const element = document.querySelector('#df-c2110830-eb6b-4d44-b6d7-5cb9cb7086ad');\n",
              "          const dataTable =\n",
              "            await google.colab.kernel.invokeFunction('convertToInteractive',\n",
              "                                                     [key], {});\n",
              "          if (!dataTable) return;\n",
              "\n",
              "          const docLinkHtml = 'Like what you see? Visit the ' +\n",
              "            '<a target=\"_blank\" href=https://colab.research.google.com/notebooks/data_table.ipynb>data table notebook</a>'\n",
              "            + ' to learn more about interactive tables.';\n",
              "          element.innerHTML = '';\n",
              "          dataTable['output_type'] = 'display_data';\n",
              "          await google.colab.output.renderOutput(dataTable, element);\n",
              "          const docLink = document.createElement('div');\n",
              "          docLink.innerHTML = docLinkHtml;\n",
              "          element.appendChild(docLink);\n",
              "        }\n",
              "      </script>\n",
              "    </div>\n",
              "  </div>\n",
              "  "
            ]
          },
          "metadata": {},
          "execution_count": 267
        }
      ]
    },
    {
      "cell_type": "code",
      "source": [
        "submission['high'] = pred[0]\n",
        "submission['medium'] = pred[1]\n",
        "submission['low'] = pred[2]\n",
        "submission.to_csv('cft_late_submission.csv', index = False)"
      ],
      "metadata": {
        "id": "ioKc-RStwsr1"
      },
      "id": "ioKc-RStwsr1",
      "execution_count": null,
      "outputs": []
    }
  ],
  "metadata": {
    "kernelspec": {
      "display_name": "Python 3 (ipykernel)",
      "language": "python",
      "name": "python3"
    },
    "language_info": {
      "codemirror_mode": {
        "name": "ipython",
        "version": 3
      },
      "file_extension": ".py",
      "mimetype": "text/x-python",
      "name": "python",
      "nbconvert_exporter": "python",
      "pygments_lexer": "ipython3",
      "version": "3.9.7"
    },
    "colab": {
      "provenance": [],
      "collapsed_sections": [
        "f041a636",
        "fd5b0578",
        "9a63d436",
        "a0efc9d3",
        "abc872d9",
        "3eaae27f",
        "6c95954d",
        "bea85663",
        "d8c1958f",
        "f149836d",
        "cee77bd9"
      ]
    },
    "accelerator": "GPU",
    "gpuClass": "standard"
  },
  "nbformat": 4,
  "nbformat_minor": 5
}